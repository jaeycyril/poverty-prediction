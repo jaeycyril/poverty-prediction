{
 "cells": [
  {
   "cell_type": "code",
   "execution_count": 10,
   "metadata": {
    "collapsed": true
   },
   "outputs": [],
   "source": [
    "import numpy as np\n",
    "import pandas as pd\n",
    "from imblearn.over_sampling import SMOTE\n",
    "from collections import Counter\n",
    "import matplotlib.pyplot as plt\n",
    "%matplotlib inline"
   ]
  },
  {
   "cell_type": "code",
   "execution_count": 12,
   "metadata": {
    "collapsed": true
   },
   "outputs": [],
   "source": [
    "from preprocess_util import stan, pre_process_data, impute_vals"
   ]
  },
  {
   "cell_type": "code",
   "execution_count": 13,
   "metadata": {
    "collapsed": true
   },
   "outputs": [],
   "source": [
    "c_hhold_train = pd.read_csv(\"data/C_hhold_train.csv\", index_col='id')"
   ]
  },
  {
   "cell_type": "code",
   "execution_count": 14,
   "metadata": {},
   "outputs": [
    {
     "data": {
      "text/html": [
       "<div>\n",
       "<style>\n",
       "    .dataframe thead tr:only-child th {\n",
       "        text-align: right;\n",
       "    }\n",
       "\n",
       "    .dataframe thead th {\n",
       "        text-align: left;\n",
       "    }\n",
       "\n",
       "    .dataframe tbody tr th {\n",
       "        vertical-align: top;\n",
       "    }\n",
       "</style>\n",
       "<table border=\"1\" class=\"dataframe\">\n",
       "  <thead>\n",
       "    <tr style=\"text-align: right;\">\n",
       "      <th></th>\n",
       "      <th>GRGAYimk</th>\n",
       "      <th>DNnBfiSI</th>\n",
       "      <th>cNDTCUPU</th>\n",
       "      <th>GvTJUYOo</th>\n",
       "      <th>vmKoAlVH</th>\n",
       "      <th>LhUIIEHQ</th>\n",
       "      <th>DTNyjXJp</th>\n",
       "      <th>PNAiwXUz</th>\n",
       "      <th>ABnhybHK</th>\n",
       "      <th>yiuxBjHP</th>\n",
       "      <th>...</th>\n",
       "      <th>AJHrHUkH</th>\n",
       "      <th>PaEKIlvv</th>\n",
       "      <th>bFEsoTgJ</th>\n",
       "      <th>ihACfisf</th>\n",
       "      <th>obIQUcpS</th>\n",
       "      <th>lAvdypjD</th>\n",
       "      <th>ARWytYMz</th>\n",
       "      <th>eqJPmiPb</th>\n",
       "      <th>mmoCpqWS</th>\n",
       "      <th>country</th>\n",
       "    </tr>\n",
       "    <tr>\n",
       "      <th>id</th>\n",
       "      <th></th>\n",
       "      <th></th>\n",
       "      <th></th>\n",
       "      <th></th>\n",
       "      <th></th>\n",
       "      <th></th>\n",
       "      <th></th>\n",
       "      <th></th>\n",
       "      <th></th>\n",
       "      <th></th>\n",
       "      <th></th>\n",
       "      <th></th>\n",
       "      <th></th>\n",
       "      <th></th>\n",
       "      <th></th>\n",
       "      <th></th>\n",
       "      <th></th>\n",
       "      <th></th>\n",
       "      <th></th>\n",
       "      <th></th>\n",
       "      <th></th>\n",
       "    </tr>\n",
       "  </thead>\n",
       "  <tbody>\n",
       "    <tr>\n",
       "      <th>57211</th>\n",
       "      <td>RslOh</td>\n",
       "      <td>SuNUt</td>\n",
       "      <td>gJLrc</td>\n",
       "      <td>EPKkJ</td>\n",
       "      <td>qKiiE</td>\n",
       "      <td>7</td>\n",
       "      <td>XuMYE</td>\n",
       "      <td>-5</td>\n",
       "      <td>QqETe</td>\n",
       "      <td>umyco</td>\n",
       "      <td>...</td>\n",
       "      <td>laFxs</td>\n",
       "      <td>kBQRJ</td>\n",
       "      <td>qcUVH</td>\n",
       "      <td>AmPtx</td>\n",
       "      <td>YXwVA</td>\n",
       "      <td>jSoky</td>\n",
       "      <td>NwjRA</td>\n",
       "      <td>wnPqZ</td>\n",
       "      <td>52</td>\n",
       "      <td>C</td>\n",
       "    </tr>\n",
       "    <tr>\n",
       "      <th>62519</th>\n",
       "      <td>jPUAt</td>\n",
       "      <td>boDkI</td>\n",
       "      <td>gJLrc</td>\n",
       "      <td>EPKkJ</td>\n",
       "      <td>YXkKd</td>\n",
       "      <td>7</td>\n",
       "      <td>XuMYE</td>\n",
       "      <td>331</td>\n",
       "      <td>sEJgr</td>\n",
       "      <td>yYwlq</td>\n",
       "      <td>...</td>\n",
       "      <td>laFxs</td>\n",
       "      <td>kBQRJ</td>\n",
       "      <td>eusFW</td>\n",
       "      <td>AmPtx</td>\n",
       "      <td>LSPRW</td>\n",
       "      <td>jSoky</td>\n",
       "      <td>NwjRA</td>\n",
       "      <td>wnPqZ</td>\n",
       "      <td>100</td>\n",
       "      <td>C</td>\n",
       "    </tr>\n",
       "    <tr>\n",
       "      <th>11614</th>\n",
       "      <td>OpTiw</td>\n",
       "      <td>boDkI</td>\n",
       "      <td>vURog</td>\n",
       "      <td>EPKkJ</td>\n",
       "      <td>qKiiE</td>\n",
       "      <td>9</td>\n",
       "      <td>XuMYE</td>\n",
       "      <td>-1</td>\n",
       "      <td>sEJgr</td>\n",
       "      <td>umyco</td>\n",
       "      <td>...</td>\n",
       "      <td>laFxs</td>\n",
       "      <td>oUXSJ</td>\n",
       "      <td>eusFW</td>\n",
       "      <td>AmPtx</td>\n",
       "      <td>YXwVA</td>\n",
       "      <td>jSoky</td>\n",
       "      <td>NwjRA</td>\n",
       "      <td>wnPqZ</td>\n",
       "      <td>70</td>\n",
       "      <td>C</td>\n",
       "    </tr>\n",
       "    <tr>\n",
       "      <th>6470</th>\n",
       "      <td>RslOh</td>\n",
       "      <td>VgxgY</td>\n",
       "      <td>gJLrc</td>\n",
       "      <td>EPKkJ</td>\n",
       "      <td>YXkKd</td>\n",
       "      <td>9</td>\n",
       "      <td>zfhKi</td>\n",
       "      <td>-5</td>\n",
       "      <td>sEJgr</td>\n",
       "      <td>umyco</td>\n",
       "      <td>...</td>\n",
       "      <td>laFxs</td>\n",
       "      <td>kBQRJ</td>\n",
       "      <td>jqrBN</td>\n",
       "      <td>AmPtx</td>\n",
       "      <td>YXwVA</td>\n",
       "      <td>jSoky</td>\n",
       "      <td>NwjRA</td>\n",
       "      <td>wnPqZ</td>\n",
       "      <td>10</td>\n",
       "      <td>C</td>\n",
       "    </tr>\n",
       "    <tr>\n",
       "      <th>33558</th>\n",
       "      <td>IXFlv</td>\n",
       "      <td>VgxgY</td>\n",
       "      <td>kPTaD</td>\n",
       "      <td>EPKkJ</td>\n",
       "      <td>YXkKd</td>\n",
       "      <td>9</td>\n",
       "      <td>XuMYE</td>\n",
       "      <td>23</td>\n",
       "      <td>sEJgr</td>\n",
       "      <td>umyco</td>\n",
       "      <td>...</td>\n",
       "      <td>laFxs</td>\n",
       "      <td>kBQRJ</td>\n",
       "      <td>eusFW</td>\n",
       "      <td>AmPtx</td>\n",
       "      <td>LSPRW</td>\n",
       "      <td>jSoky</td>\n",
       "      <td>herus</td>\n",
       "      <td>wnPqZ</td>\n",
       "      <td>-5</td>\n",
       "      <td>C</td>\n",
       "    </tr>\n",
       "  </tbody>\n",
       "</table>\n",
       "<p>5 rows × 164 columns</p>\n",
       "</div>"
      ],
      "text/plain": [
       "      GRGAYimk DNnBfiSI cNDTCUPU GvTJUYOo vmKoAlVH  LhUIIEHQ DTNyjXJp  \\\n",
       "id                                                                      \n",
       "57211    RslOh    SuNUt    gJLrc    EPKkJ    qKiiE         7    XuMYE   \n",
       "62519    jPUAt    boDkI    gJLrc    EPKkJ    YXkKd         7    XuMYE   \n",
       "11614    OpTiw    boDkI    vURog    EPKkJ    qKiiE         9    XuMYE   \n",
       "6470     RslOh    VgxgY    gJLrc    EPKkJ    YXkKd         9    zfhKi   \n",
       "33558    IXFlv    VgxgY    kPTaD    EPKkJ    YXkKd         9    XuMYE   \n",
       "\n",
       "       PNAiwXUz ABnhybHK yiuxBjHP   ...   AJHrHUkH PaEKIlvv bFEsoTgJ ihACfisf  \\\n",
       "id                                  ...                                         \n",
       "57211        -5    QqETe    umyco   ...      laFxs    kBQRJ    qcUVH    AmPtx   \n",
       "62519       331    sEJgr    yYwlq   ...      laFxs    kBQRJ    eusFW    AmPtx   \n",
       "11614        -1    sEJgr    umyco   ...      laFxs    oUXSJ    eusFW    AmPtx   \n",
       "6470         -5    sEJgr    umyco   ...      laFxs    kBQRJ    jqrBN    AmPtx   \n",
       "33558        23    sEJgr    umyco   ...      laFxs    kBQRJ    eusFW    AmPtx   \n",
       "\n",
       "      obIQUcpS  lAvdypjD  ARWytYMz eqJPmiPb mmoCpqWS country  \n",
       "id                                                            \n",
       "57211    YXwVA     jSoky     NwjRA    wnPqZ       52       C  \n",
       "62519    LSPRW     jSoky     NwjRA    wnPqZ      100       C  \n",
       "11614    YXwVA     jSoky     NwjRA    wnPqZ       70       C  \n",
       "6470     YXwVA     jSoky     NwjRA    wnPqZ       10       C  \n",
       "33558    LSPRW     jSoky     herus    wnPqZ       -5       C  \n",
       "\n",
       "[5 rows x 164 columns]"
      ]
     },
     "execution_count": 14,
     "metadata": {},
     "output_type": "execute_result"
    }
   ],
   "source": [
    "c_hhold_train.head()"
   ]
  },
  {
   "cell_type": "code",
   "execution_count": 15,
   "metadata": {},
   "outputs": [
    {
     "name": "stdout",
     "output_type": "stream",
     "text": [
      "<class 'pandas.core.frame.DataFrame'>\n",
      "Int64Index: 6469 entries, 57211 to 7646\n",
      "Columns: 164 entries, GRGAYimk to country\n",
      "dtypes: bool(1), float64(1), int64(29), object(133)\n",
      "memory usage: 8.1+ MB\n"
     ]
    }
   ],
   "source": [
    "c_hhold_train.info()"
   ]
  },
  {
   "cell_type": "code",
   "execution_count": 17,
   "metadata": {},
   "outputs": [
    {
     "data": {
      "text/html": [
       "<div>\n",
       "<style>\n",
       "    .dataframe thead tr:only-child th {\n",
       "        text-align: right;\n",
       "    }\n",
       "\n",
       "    .dataframe thead th {\n",
       "        text-align: left;\n",
       "    }\n",
       "\n",
       "    .dataframe tbody tr th {\n",
       "        vertical-align: top;\n",
       "    }\n",
       "</style>\n",
       "<table border=\"1\" class=\"dataframe\">\n",
       "  <thead>\n",
       "    <tr style=\"text-align: right;\">\n",
       "      <th></th>\n",
       "      <th>LhUIIEHQ</th>\n",
       "      <th>PNAiwXUz</th>\n",
       "      <th>jmsRIiqp</th>\n",
       "      <th>NONtAKOM</th>\n",
       "      <th>kLAQgdly</th>\n",
       "      <th>WWuPOkor</th>\n",
       "      <th>CtFxPQPT</th>\n",
       "      <th>GIwNbAsH</th>\n",
       "      <th>qLDzvjiU</th>\n",
       "      <th>detlNNFh</th>\n",
       "      <th>...</th>\n",
       "      <th>kiAJBGqv</th>\n",
       "      <th>aFKPYcDt</th>\n",
       "      <th>gAZloxqF</th>\n",
       "      <th>phbxKGlB</th>\n",
       "      <th>nTaJkLaJ</th>\n",
       "      <th>ZZGQNLOX</th>\n",
       "      <th>snkiwkvf</th>\n",
       "      <th>POJXrpmn</th>\n",
       "      <th>vSqQCatY</th>\n",
       "      <th>mmoCpqWS</th>\n",
       "    </tr>\n",
       "    <tr>\n",
       "      <th>id</th>\n",
       "      <th></th>\n",
       "      <th></th>\n",
       "      <th></th>\n",
       "      <th></th>\n",
       "      <th></th>\n",
       "      <th></th>\n",
       "      <th></th>\n",
       "      <th></th>\n",
       "      <th></th>\n",
       "      <th></th>\n",
       "      <th></th>\n",
       "      <th></th>\n",
       "      <th></th>\n",
       "      <th></th>\n",
       "      <th></th>\n",
       "      <th></th>\n",
       "      <th></th>\n",
       "      <th></th>\n",
       "      <th></th>\n",
       "      <th></th>\n",
       "      <th></th>\n",
       "    </tr>\n",
       "  </thead>\n",
       "  <tbody>\n",
       "    <tr>\n",
       "      <th>57211</th>\n",
       "      <td>7</td>\n",
       "      <td>-5</td>\n",
       "      <td>8</td>\n",
       "      <td>-10</td>\n",
       "      <td>-500</td>\n",
       "      <td>5</td>\n",
       "      <td>-8</td>\n",
       "      <td>-3</td>\n",
       "      <td>0</td>\n",
       "      <td>-1</td>\n",
       "      <td>...</td>\n",
       "      <td>1</td>\n",
       "      <td>-9</td>\n",
       "      <td>-9</td>\n",
       "      <td>-605</td>\n",
       "      <td>5</td>\n",
       "      <td>-19</td>\n",
       "      <td>-100</td>\n",
       "      <td>2</td>\n",
       "      <td>196</td>\n",
       "      <td>52</td>\n",
       "    </tr>\n",
       "    <tr>\n",
       "      <th>62519</th>\n",
       "      <td>7</td>\n",
       "      <td>331</td>\n",
       "      <td>8</td>\n",
       "      <td>-4</td>\n",
       "      <td>-410</td>\n",
       "      <td>5</td>\n",
       "      <td>-596</td>\n",
       "      <td>-3</td>\n",
       "      <td>0</td>\n",
       "      <td>-1</td>\n",
       "      <td>...</td>\n",
       "      <td>-1</td>\n",
       "      <td>-9</td>\n",
       "      <td>-849</td>\n",
       "      <td>-767</td>\n",
       "      <td>593</td>\n",
       "      <td>-13</td>\n",
       "      <td>-520</td>\n",
       "      <td>2</td>\n",
       "      <td>250</td>\n",
       "      <td>100</td>\n",
       "    </tr>\n",
       "    <tr>\n",
       "      <th>11614</th>\n",
       "      <td>9</td>\n",
       "      <td>-1</td>\n",
       "      <td>15</td>\n",
       "      <td>2</td>\n",
       "      <td>-10</td>\n",
       "      <td>5</td>\n",
       "      <td>-8</td>\n",
       "      <td>-6</td>\n",
       "      <td>1</td>\n",
       "      <td>-1</td>\n",
       "      <td>...</td>\n",
       "      <td>0</td>\n",
       "      <td>-9</td>\n",
       "      <td>-39</td>\n",
       "      <td>-677</td>\n",
       "      <td>26</td>\n",
       "      <td>-25</td>\n",
       "      <td>-34</td>\n",
       "      <td>2</td>\n",
       "      <td>7</td>\n",
       "      <td>70</td>\n",
       "    </tr>\n",
       "    <tr>\n",
       "      <th>6470</th>\n",
       "      <td>9</td>\n",
       "      <td>-5</td>\n",
       "      <td>1</td>\n",
       "      <td>2</td>\n",
       "      <td>-10</td>\n",
       "      <td>5</td>\n",
       "      <td>-22</td>\n",
       "      <td>-6</td>\n",
       "      <td>-1</td>\n",
       "      <td>-1</td>\n",
       "      <td>...</td>\n",
       "      <td>0</td>\n",
       "      <td>-9</td>\n",
       "      <td>-9</td>\n",
       "      <td>-20</td>\n",
       "      <td>-2</td>\n",
       "      <td>-13</td>\n",
       "      <td>-16</td>\n",
       "      <td>2</td>\n",
       "      <td>175</td>\n",
       "      <td>10</td>\n",
       "    </tr>\n",
       "    <tr>\n",
       "      <th>33558</th>\n",
       "      <td>9</td>\n",
       "      <td>23</td>\n",
       "      <td>15</td>\n",
       "      <td>-10</td>\n",
       "      <td>-325</td>\n",
       "      <td>0</td>\n",
       "      <td>-1</td>\n",
       "      <td>-6</td>\n",
       "      <td>0</td>\n",
       "      <td>8</td>\n",
       "      <td>...</td>\n",
       "      <td>2</td>\n",
       "      <td>-9</td>\n",
       "      <td>-1039</td>\n",
       "      <td>-938</td>\n",
       "      <td>-2</td>\n",
       "      <td>-13</td>\n",
       "      <td>-634</td>\n",
       "      <td>2</td>\n",
       "      <td>307</td>\n",
       "      <td>-5</td>\n",
       "    </tr>\n",
       "  </tbody>\n",
       "</table>\n",
       "<p>5 rows × 30 columns</p>\n",
       "</div>"
      ],
      "text/plain": [
       "       LhUIIEHQ  PNAiwXUz  jmsRIiqp  NONtAKOM  kLAQgdly  WWuPOkor  CtFxPQPT  \\\n",
       "id                                                                            \n",
       "57211         7        -5         8       -10      -500         5        -8   \n",
       "62519         7       331         8        -4      -410         5      -596   \n",
       "11614         9        -1        15         2       -10         5        -8   \n",
       "6470          9        -5         1         2       -10         5       -22   \n",
       "33558         9        23        15       -10      -325         0        -1   \n",
       "\n",
       "       GIwNbAsH  qLDzvjiU  detlNNFh    ...     kiAJBGqv  aFKPYcDt  gAZloxqF  \\\n",
       "id                                     ...                                    \n",
       "57211        -3         0        -1    ...            1        -9        -9   \n",
       "62519        -3         0        -1    ...           -1        -9      -849   \n",
       "11614        -6         1        -1    ...            0        -9       -39   \n",
       "6470         -6        -1        -1    ...            0        -9        -9   \n",
       "33558        -6         0         8    ...            2        -9     -1039   \n",
       "\n",
       "       phbxKGlB  nTaJkLaJ  ZZGQNLOX  snkiwkvf  POJXrpmn  vSqQCatY  mmoCpqWS  \n",
       "id                                                                           \n",
       "57211      -605         5       -19      -100         2       196        52  \n",
       "62519      -767       593       -13      -520         2       250       100  \n",
       "11614      -677        26       -25       -34         2         7        70  \n",
       "6470        -20        -2       -13       -16         2       175        10  \n",
       "33558      -938        -2       -13      -634         2       307        -5  \n",
       "\n",
       "[5 rows x 30 columns]"
      ]
     },
     "execution_count": 17,
     "metadata": {},
     "output_type": "execute_result"
    }
   ],
   "source": [
    "c_hhold_train.select_dtypes(include=(\"int64\",\"float64\")).head()"
   ]
  },
  {
   "cell_type": "code",
   "execution_count": 18,
   "metadata": {
    "collapsed": true
   },
   "outputs": [],
   "source": [
    "c_filled = impute_vals(c_hhold_train)"
   ]
  },
  {
   "cell_type": "code",
   "execution_count": 19,
   "metadata": {},
   "outputs": [
    {
     "data": {
      "text/plain": [
       "<matplotlib.axes._subplots.AxesSubplot at 0x104e956a0>"
      ]
     },
     "execution_count": 19,
     "metadata": {},
     "output_type": "execute_result"
    },
    {
     "data": {
      "image/png": "[encoded data removed]",
      "text/plain": [
       "<matplotlib.figure.Figure at 0x10d560630>"
      ]
     },
     "metadata": {},
     "output_type": "display_data"
    }
   ],
   "source": [
    "c_filled.poor.value_counts().plot.bar(title=\"poverty for C\")"
   ]
  },
  {
   "cell_type": "code",
   "execution_count": 20,
   "metadata": {
    "collapsed": true
   },
   "outputs": [],
   "source": [
    "c_filled_Y = c_filled.poor"
   ]
  },
  {
   "cell_type": "code",
   "execution_count": 21,
   "metadata": {
    "collapsed": true
   },
   "outputs": [],
   "source": [
    "c_filled.drop('poor', axis=1, inplace=True)"
   ]
  },
  {
   "cell_type": "code",
   "execution_count": 22,
   "metadata": {},
   "outputs": [
    {
     "name": "stdout",
     "output_type": "stream",
     "text": [
      "input shape\t(6469, 163)\n",
      "After standardization\t(6469, 163)\n",
      "After one hot encoding of categoricals\t(6469, 795)\n"
     ]
    }
   ],
   "source": [
    "c_filled_X = pre_process_data(c_filled)"
   ]
  },
  {
   "cell_type": "code",
   "execution_count": 24,
   "metadata": {
    "collapsed": true
   },
   "outputs": [],
   "source": [
    "cX_resampled, cY_resampled = SMOTE().fit_sample(c_filled_X, c_filled_Y)"
   ]
  },
  {
   "cell_type": "code",
   "execution_count": 26,
   "metadata": {},
   "outputs": [
    {
     "name": "stdout",
     "output_type": "stream",
     "text": [
      "dict_items([(False, 5496), (True, 5496)])\n"
     ]
    }
   ],
   "source": [
    "print(Counter(cY_resampled).items())"
   ]
  },
  {
   "cell_type": "code",
   "execution_count": 27,
   "metadata": {},
   "outputs": [
    {
     "data": {
      "text/plain": [
       "(10992, 795)"
      ]
     },
     "execution_count": 27,
     "metadata": {},
     "output_type": "execute_result"
    }
   ],
   "source": [
    "cX_resampled.shape"
   ]
  },
  {
   "cell_type": "code",
   "execution_count": 28,
   "metadata": {},
   "outputs": [
    {
     "data": {
      "text/plain": [
       "(10992,)"
      ]
     },
     "execution_count": 28,
     "metadata": {},
     "output_type": "execute_result"
    }
   ],
   "source": [
    "cY_resampled.shape"
   ]
  },
  {
   "cell_type": "code",
   "execution_count": 29,
   "metadata": {
    "collapsed": true
   },
   "outputs": [],
   "source": [
    "cY_resampled = cY_resampled.reshape(1,10992)"
   ]
  },
  {
   "cell_type": "code",
   "execution_count": 30,
   "metadata": {},
   "outputs": [
    {
     "data": {
      "text/plain": [
       "(1, 10992)"
      ]
     },
     "execution_count": 30,
     "metadata": {},
     "output_type": "execute_result"
    }
   ],
   "source": [
    "cY_resampled.shape"
   ]
  },
  {
   "cell_type": "markdown",
   "metadata": {
    "collapsed": true
   },
   "source": [
    "# BUILD MODEL"
   ]
  },
  {
   "cell_type": "code",
   "execution_count": null,
   "metadata": {
    "collapsed": true
   },
   "outputs": [],
   "source": []
  }
 ],
 "metadata": {
  "kernelspec": {
   "display_name": "Python 3",
   "language": "python",
   "name": "python3"
  },
  "language_info": {
   "codemirror_mode": {
    "name": "ipython",
    "version": 3
   },
   "file_extension": ".py",
   "mimetype": "text/x-python",
   "name": "python",
   "nbconvert_exporter": "python",
   "pygments_lexer": "ipython3",
   "version": "3.6.3"
  }
 },
 "nbformat": 4,
 "nbformat_minor": 2
}
