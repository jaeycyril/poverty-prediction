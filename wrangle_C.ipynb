{
 "cells": [
  {
   "cell_type": "code",
   "execution_count": 17,
   "metadata": {
    "collapsed": true
   },
   "outputs": [],
   "source": [
    "import numpy as np\n",
    "import pandas as pd\n",
    "from imblearn.over_sampling import SMOTE\n",
    "from collections import Counter\n",
    "import matplotlib.pyplot as plt\n",
    "%matplotlib inline"
   ]
  },
  {
   "cell_type": "code",
   "execution_count": 18,
   "metadata": {
    "collapsed": true
   },
   "outputs": [],
   "source": [
    "from preprocess_util import pre_process_data, impute_vals"
   ]
  },
  {
   "cell_type": "code",
   "execution_count": 19,
   "metadata": {
    "collapsed": true
   },
   "outputs": [],
   "source": [
    "c_hhold_train = pd.read_csv(\"data/C_hhold_train.csv\", index_col='id')\n",
    "c_test = pd.read_csv(\"data/C_hhold_test.csv\", index_col='id')"
   ]
  },
  {
   "cell_type": "code",
   "execution_count": 20,
   "metadata": {},
   "outputs": [
    {
     "data": {
      "text/html": [
       "<div>\n",
       "<style>\n",
       "    .dataframe thead tr:only-child th {\n",
       "        text-align: right;\n",
       "    }\n",
       "\n",
       "    .dataframe thead th {\n",
       "        text-align: left;\n",
       "    }\n",
       "\n",
       "    .dataframe tbody tr th {\n",
       "        vertical-align: top;\n",
       "    }\n",
       "</style>\n",
       "<table border=\"1\" class=\"dataframe\">\n",
       "  <thead>\n",
       "    <tr style=\"text-align: right;\">\n",
       "      <th></th>\n",
       "      <th>GRGAYimk</th>\n",
       "      <th>DNnBfiSI</th>\n",
       "      <th>cNDTCUPU</th>\n",
       "      <th>GvTJUYOo</th>\n",
       "      <th>vmKoAlVH</th>\n",
       "      <th>LhUIIEHQ</th>\n",
       "      <th>DTNyjXJp</th>\n",
       "      <th>PNAiwXUz</th>\n",
       "      <th>ABnhybHK</th>\n",
       "      <th>yiuxBjHP</th>\n",
       "      <th>...</th>\n",
       "      <th>AJHrHUkH</th>\n",
       "      <th>PaEKIlvv</th>\n",
       "      <th>bFEsoTgJ</th>\n",
       "      <th>ihACfisf</th>\n",
       "      <th>obIQUcpS</th>\n",
       "      <th>lAvdypjD</th>\n",
       "      <th>ARWytYMz</th>\n",
       "      <th>eqJPmiPb</th>\n",
       "      <th>mmoCpqWS</th>\n",
       "      <th>country</th>\n",
       "    </tr>\n",
       "    <tr>\n",
       "      <th>id</th>\n",
       "      <th></th>\n",
       "      <th></th>\n",
       "      <th></th>\n",
       "      <th></th>\n",
       "      <th></th>\n",
       "      <th></th>\n",
       "      <th></th>\n",
       "      <th></th>\n",
       "      <th></th>\n",
       "      <th></th>\n",
       "      <th></th>\n",
       "      <th></th>\n",
       "      <th></th>\n",
       "      <th></th>\n",
       "      <th></th>\n",
       "      <th></th>\n",
       "      <th></th>\n",
       "      <th></th>\n",
       "      <th></th>\n",
       "      <th></th>\n",
       "      <th></th>\n",
       "    </tr>\n",
       "  </thead>\n",
       "  <tbody>\n",
       "    <tr>\n",
       "      <th>57211</th>\n",
       "      <td>RslOh</td>\n",
       "      <td>SuNUt</td>\n",
       "      <td>gJLrc</td>\n",
       "      <td>EPKkJ</td>\n",
       "      <td>qKiiE</td>\n",
       "      <td>7</td>\n",
       "      <td>XuMYE</td>\n",
       "      <td>-5</td>\n",
       "      <td>QqETe</td>\n",
       "      <td>umyco</td>\n",
       "      <td>...</td>\n",
       "      <td>laFxs</td>\n",
       "      <td>kBQRJ</td>\n",
       "      <td>qcUVH</td>\n",
       "      <td>AmPtx</td>\n",
       "      <td>YXwVA</td>\n",
       "      <td>jSoky</td>\n",
       "      <td>NwjRA</td>\n",
       "      <td>wnPqZ</td>\n",
       "      <td>52</td>\n",
       "      <td>C</td>\n",
       "    </tr>\n",
       "    <tr>\n",
       "      <th>62519</th>\n",
       "      <td>jPUAt</td>\n",
       "      <td>boDkI</td>\n",
       "      <td>gJLrc</td>\n",
       "      <td>EPKkJ</td>\n",
       "      <td>YXkKd</td>\n",
       "      <td>7</td>\n",
       "      <td>XuMYE</td>\n",
       "      <td>331</td>\n",
       "      <td>sEJgr</td>\n",
       "      <td>yYwlq</td>\n",
       "      <td>...</td>\n",
       "      <td>laFxs</td>\n",
       "      <td>kBQRJ</td>\n",
       "      <td>eusFW</td>\n",
       "      <td>AmPtx</td>\n",
       "      <td>LSPRW</td>\n",
       "      <td>jSoky</td>\n",
       "      <td>NwjRA</td>\n",
       "      <td>wnPqZ</td>\n",
       "      <td>100</td>\n",
       "      <td>C</td>\n",
       "    </tr>\n",
       "    <tr>\n",
       "      <th>11614</th>\n",
       "      <td>OpTiw</td>\n",
       "      <td>boDkI</td>\n",
       "      <td>vURog</td>\n",
       "      <td>EPKkJ</td>\n",
       "      <td>qKiiE</td>\n",
       "      <td>9</td>\n",
       "      <td>XuMYE</td>\n",
       "      <td>-1</td>\n",
       "      <td>sEJgr</td>\n",
       "      <td>umyco</td>\n",
       "      <td>...</td>\n",
       "      <td>laFxs</td>\n",
       "      <td>oUXSJ</td>\n",
       "      <td>eusFW</td>\n",
       "      <td>AmPtx</td>\n",
       "      <td>YXwVA</td>\n",
       "      <td>jSoky</td>\n",
       "      <td>NwjRA</td>\n",
       "      <td>wnPqZ</td>\n",
       "      <td>70</td>\n",
       "      <td>C</td>\n",
       "    </tr>\n",
       "    <tr>\n",
       "      <th>6470</th>\n",
       "      <td>RslOh</td>\n",
       "      <td>VgxgY</td>\n",
       "      <td>gJLrc</td>\n",
       "      <td>EPKkJ</td>\n",
       "      <td>YXkKd</td>\n",
       "      <td>9</td>\n",
       "      <td>zfhKi</td>\n",
       "      <td>-5</td>\n",
       "      <td>sEJgr</td>\n",
       "      <td>umyco</td>\n",
       "      <td>...</td>\n",
       "      <td>laFxs</td>\n",
       "      <td>kBQRJ</td>\n",
       "      <td>jqrBN</td>\n",
       "      <td>AmPtx</td>\n",
       "      <td>YXwVA</td>\n",
       "      <td>jSoky</td>\n",
       "      <td>NwjRA</td>\n",
       "      <td>wnPqZ</td>\n",
       "      <td>10</td>\n",
       "      <td>C</td>\n",
       "    </tr>\n",
       "    <tr>\n",
       "      <th>33558</th>\n",
       "      <td>IXFlv</td>\n",
       "      <td>VgxgY</td>\n",
       "      <td>kPTaD</td>\n",
       "      <td>EPKkJ</td>\n",
       "      <td>YXkKd</td>\n",
       "      <td>9</td>\n",
       "      <td>XuMYE</td>\n",
       "      <td>23</td>\n",
       "      <td>sEJgr</td>\n",
       "      <td>umyco</td>\n",
       "      <td>...</td>\n",
       "      <td>laFxs</td>\n",
       "      <td>kBQRJ</td>\n",
       "      <td>eusFW</td>\n",
       "      <td>AmPtx</td>\n",
       "      <td>LSPRW</td>\n",
       "      <td>jSoky</td>\n",
       "      <td>herus</td>\n",
       "      <td>wnPqZ</td>\n",
       "      <td>-5</td>\n",
       "      <td>C</td>\n",
       "    </tr>\n",
       "  </tbody>\n",
       "</table>\n",
       "<p>5 rows × 164 columns</p>\n",
       "</div>"
      ],
      "text/plain": [
       "      GRGAYimk DNnBfiSI cNDTCUPU GvTJUYOo vmKoAlVH  LhUIIEHQ DTNyjXJp  \\\n",
       "id                                                                      \n",
       "57211    RslOh    SuNUt    gJLrc    EPKkJ    qKiiE         7    XuMYE   \n",
       "62519    jPUAt    boDkI    gJLrc    EPKkJ    YXkKd         7    XuMYE   \n",
       "11614    OpTiw    boDkI    vURog    EPKkJ    qKiiE         9    XuMYE   \n",
       "6470     RslOh    VgxgY    gJLrc    EPKkJ    YXkKd         9    zfhKi   \n",
       "33558    IXFlv    VgxgY    kPTaD    EPKkJ    YXkKd         9    XuMYE   \n",
       "\n",
       "       PNAiwXUz ABnhybHK yiuxBjHP   ...   AJHrHUkH PaEKIlvv bFEsoTgJ ihACfisf  \\\n",
       "id                                  ...                                         \n",
       "57211        -5    QqETe    umyco   ...      laFxs    kBQRJ    qcUVH    AmPtx   \n",
       "62519       331    sEJgr    yYwlq   ...      laFxs    kBQRJ    eusFW    AmPtx   \n",
       "11614        -1    sEJgr    umyco   ...      laFxs    oUXSJ    eusFW    AmPtx   \n",
       "6470         -5    sEJgr    umyco   ...      laFxs    kBQRJ    jqrBN    AmPtx   \n",
       "33558        23    sEJgr    umyco   ...      laFxs    kBQRJ    eusFW    AmPtx   \n",
       "\n",
       "      obIQUcpS  lAvdypjD  ARWytYMz eqJPmiPb mmoCpqWS country  \n",
       "id                                                            \n",
       "57211    YXwVA     jSoky     NwjRA    wnPqZ       52       C  \n",
       "62519    LSPRW     jSoky     NwjRA    wnPqZ      100       C  \n",
       "11614    YXwVA     jSoky     NwjRA    wnPqZ       70       C  \n",
       "6470     YXwVA     jSoky     NwjRA    wnPqZ       10       C  \n",
       "33558    LSPRW     jSoky     herus    wnPqZ       -5       C  \n",
       "\n",
       "[5 rows x 164 columns]"
      ]
     },
     "execution_count": 20,
     "metadata": {},
     "output_type": "execute_result"
    }
   ],
   "source": [
    "c_hhold_train.head()"
   ]
  },
  {
   "cell_type": "code",
   "execution_count": 21,
   "metadata": {},
   "outputs": [
    {
     "name": "stdout",
     "output_type": "stream",
     "text": [
      "<class 'pandas.core.frame.DataFrame'>\n",
      "Int64Index: 6469 entries, 57211 to 7646\n",
      "Columns: 164 entries, GRGAYimk to country\n",
      "dtypes: bool(1), float64(1), int64(29), object(133)\n",
      "memory usage: 8.1+ MB\n"
     ]
    }
   ],
   "source": [
    "c_hhold_train.info()"
   ]
  },
  {
   "cell_type": "code",
   "execution_count": 22,
   "metadata": {
    "collapsed": true
   },
   "outputs": [],
   "source": [
    "c_filled = impute_vals(c_hhold_train)"
   ]
  },
  {
   "cell_type": "code",
   "execution_count": 23,
   "metadata": {},
   "outputs": [
    {
     "data": {
      "text/plain": [
       "<matplotlib.axes._subplots.AxesSubplot at 0x10e0e5f28>"
      ]
     },
     "execution_count": 23,
     "metadata": {},
     "output_type": "execute_result"
    },
    {
     "data": {
      "image/png": "[encoded data removed]",
      "text/plain": [
       "<matplotlib.figure.Figure at 0x10e0e57f0>"
      ]
     },
     "metadata": {},
     "output_type": "display_data"
    }
   ],
   "source": [
    "c_filled.poor.value_counts().plot.bar(title=\"poverty for C\")"
   ]
  },
  {
   "cell_type": "code",
   "execution_count": 24,
   "metadata": {
    "collapsed": true
   },
   "outputs": [],
   "source": [
    "c_filled_Y = c_filled.poor"
   ]
  },
  {
   "cell_type": "code",
   "execution_count": 25,
   "metadata": {},
   "outputs": [
    {
     "name": "stdout",
     "output_type": "stream",
     "text": [
      "input shape\t(6469, 163)\n",
      "After standardization\t(6469, 163)\n",
      "After one hot encoding of categoricals\t(6469, 795)\n"
     ]
    }
   ],
   "source": [
    "c_filled_X = pre_process_data(c_filled.drop('poor', axis=1))"
   ]
  },
  {
   "cell_type": "code",
   "execution_count": 26,
   "metadata": {
    "collapsed": true
   },
   "outputs": [],
   "source": [
    "cX_resampled, cY_resampled = SMOTE().fit_sample(c_filled_X, c_filled_Y)"
   ]
  },
  {
   "cell_type": "code",
   "execution_count": 27,
   "metadata": {},
   "outputs": [
    {
     "name": "stdout",
     "output_type": "stream",
     "text": [
      "dict_items([(False, 5496), (True, 5496)])\n"
     ]
    }
   ],
   "source": [
    "print(Counter(cY_resampled).items())"
   ]
  },
  {
   "cell_type": "code",
   "execution_count": 28,
   "metadata": {},
   "outputs": [
    {
     "data": {
      "text/plain": [
       "(10992, 795)"
      ]
     },
     "execution_count": 28,
     "metadata": {},
     "output_type": "execute_result"
    }
   ],
   "source": [
    "cX_resampled.shape"
   ]
  },
  {
   "cell_type": "code",
   "execution_count": 32,
   "metadata": {
    "collapsed": true
   },
   "outputs": [],
   "source": [
    "cX_resampled = cX_resampled.transpose()"
   ]
  },
  {
   "cell_type": "code",
   "execution_count": 33,
   "metadata": {},
   "outputs": [
    {
     "data": {
      "text/plain": [
       "(795, 10992)"
      ]
     },
     "execution_count": 33,
     "metadata": {},
     "output_type": "execute_result"
    }
   ],
   "source": [
    "cX_resampled.shape"
   ]
  },
  {
   "cell_type": "code",
   "execution_count": 34,
   "metadata": {},
   "outputs": [
    {
     "data": {
      "text/plain": [
       "(1, 10992)"
      ]
     },
     "execution_count": 34,
     "metadata": {},
     "output_type": "execute_result"
    }
   ],
   "source": [
    "cY_resampled.shape"
   ]
  },
  {
   "cell_type": "code",
   "execution_count": 35,
   "metadata": {
    "collapsed": true
   },
   "outputs": [],
   "source": [
    "cY_resampled = cY_resampled.reshape(1,10992)"
   ]
  },
  {
   "cell_type": "code",
   "execution_count": 36,
   "metadata": {},
   "outputs": [
    {
     "data": {
      "text/plain": [
       "(1, 10992)"
      ]
     },
     "execution_count": 36,
     "metadata": {},
     "output_type": "execute_result"
    }
   ],
   "source": [
    "cY_resampled.shape"
   ]
  },
  {
   "cell_type": "code",
   "execution_count": 171,
   "metadata": {
    "collapsed": true
   },
   "outputs": [],
   "source": [
    "cY_resampled = cY_resampled.astype(float)"
   ]
  },
  {
   "cell_type": "markdown",
   "metadata": {
    "collapsed": true
   },
   "source": [
    "# BUILD MODEL"
   ]
  },
  {
   "cell_type": "code",
   "execution_count": 37,
   "metadata": {
    "collapsed": true
   },
   "outputs": [],
   "source": [
    "def random_mini_batches(X, Y, mini_batch_size = 64, seed = 0):\n",
    "    \n",
    "    m = X.shape[1]                  # number of training examples\n",
    "    mini_batches = []\n",
    "    np.random.seed(seed)\n",
    "    \n",
    "    # Step 1: Shuffle (X, Y)\n",
    "    permutation = list(np.random.permutation(m))\n",
    "    shuffled_X = X[:, permutation]\n",
    "    shuffled_Y = Y[:, permutation].reshape((Y.shape[0],m))\n",
    "\n",
    "    # Step 2: Partition (shuffled_X, shuffled_Y). Minus the end case.\n",
    "    num_complete_minibatches = math.floor(m/mini_batch_size) # number of mini batches of size mini_batch_size in your partitionning\n",
    "    for k in range(0, num_complete_minibatches):\n",
    "        mini_batch_X = shuffled_X[:, k * mini_batch_size : k * mini_batch_size + mini_batch_size]\n",
    "        mini_batch_Y = shuffled_Y[:, k * mini_batch_size : k * mini_batch_size + mini_batch_size]\n",
    "        mini_batch = (mini_batch_X, mini_batch_Y)\n",
    "        mini_batches.append(mini_batch)\n",
    "    \n",
    "    # Handling the end case (last mini-batch < mini_batch_size)\n",
    "    if m % mini_batch_size != 0:\n",
    "        mini_batch_X = shuffled_X[:, num_complete_minibatches * mini_batch_size : m]\n",
    "        mini_batch_Y = shuffled_Y[:, num_complete_minibatches * mini_batch_size : m]\n",
    "        mini_batch = (mini_batch_X, mini_batch_Y)\n",
    "        mini_batches.append(mini_batch)\n",
    "    \n",
    "    return mini_batches"
   ]
  },
  {
   "cell_type": "code",
   "execution_count": 38,
   "metadata": {
    "collapsed": true
   },
   "outputs": [],
   "source": [
    "def create_placeholders(n_x, n_y):\n",
    "    X = tf.placeholder(\"float\", [n_x, None])\n",
    "    Y = tf.placeholder(\"float\", [n_y, None])\n",
    "    \n",
    "    return X, Y"
   ]
  },
  {
   "cell_type": "code",
   "execution_count": 160,
   "metadata": {
    "collapsed": true
   },
   "outputs": [],
   "source": [
    "def initialize_parameters():\n",
    "    W1 = tf.get_variable(\"W1\", [250,795], initializer = tf.contrib.layers.xavier_initializer())\n",
    "    b1 = tf.get_variable(\"b1\", [250,1], initializer = tf.zeros_initializer())\n",
    "    W2 = tf.get_variable(\"W2\", [150,250], initializer = tf.contrib.layers.xavier_initializer())\n",
    "    b2 = tf.get_variable(\"b2\", [150,1], initializer = tf.zeros_initializer())\n",
    "    W3 = tf.get_variable(\"W3\", [50,150], initializer = tf.contrib.layers.xavier_initializer())\n",
    "    b3 = tf.get_variable(\"b3\", [50,1], initializer = tf.zeros_initializer())\n",
    "    W4 = tf.get_variable(\"W4\", [1,50], initializer = tf.contrib.layers.xavier_initializer())\n",
    "    b4 = tf.get_variable(\"b4\", [1,1], initializer = tf.zeros_initializer())\n",
    "\n",
    "    parameters = {\"W1\": W1,\n",
    "                  \"b1\": b1,\n",
    "                  \"W2\": W2,\n",
    "                  \"b2\": b2,\n",
    "                  \"W3\": W3,\n",
    "                  \"b3\": b3,\n",
    "                  \"W4\": W4,\n",
    "                  \"b4\": b4\n",
    "                  }\n",
    "    \n",
    "    return parameters\n"
   ]
  },
  {
   "cell_type": "code",
   "execution_count": 155,
   "metadata": {
    "collapsed": true
   },
   "outputs": [],
   "source": [
    "def forward_propagation(X, parameters):\n",
    "    \n",
    "    # Retrieve the parameters from the dictionary \"parameters\" \n",
    "    W1 = parameters['W1']\n",
    "    b1 = parameters['b1']\n",
    "    W2 = parameters['W2']\n",
    "    b2 = parameters['b2']\n",
    "    W3 = parameters['W3']\n",
    "    b3 = parameters['b3']\n",
    "    W4 = parameters['W4']\n",
    "    b4 = parameters['b4']\n",
    "                                        \n",
    "    Z1 = tf.add(tf.matmul(W1, X), b1)                      \n",
    "    A1 = tf.nn.relu(Z1)                                    \n",
    "    Z2 = tf.add(tf.matmul(W2, A1), b2)                    \n",
    "    A2 = tf.nn.relu(Z2)                                   \n",
    "    Z3 = tf.add(tf.matmul(W3, A2), b3)                    \n",
    "    A3 = tf.nn.relu(Z3)                         \n",
    "    Z4 = tf.add(tf.matmul(W4, A3), b4)\n",
    "    return Z4"
   ]
  },
  {
   "cell_type": "code",
   "execution_count": 156,
   "metadata": {
    "collapsed": true
   },
   "outputs": [],
   "source": [
    "def compute_cost(z4, Y):\n",
    "    cost = tf.reduce_mean(tf.nn.sigmoid_cross_entropy_with_logits(logits = z4, labels = Y))\n",
    "    \n",
    "    return cost"
   ]
  },
  {
   "cell_type": "code",
   "execution_count": 174,
   "metadata": {
    "collapsed": true
   },
   "outputs": [],
   "source": [
    "def model(X_train, Y_train, learning_rate = 0.0001,\n",
    "          num_epochs = 1500, minibatch_size = 32, print_cost = True):\n",
    "    \n",
    "    tf.reset_default_graph()\n",
    "    tf.set_random_seed(1)                             \n",
    "    seed = 3                                       \n",
    "    (n_x, m) = X_train.shape                          \n",
    "    n_y = Y_train.shape[0]                                 \n",
    "    costs = []                                        \n",
    "    \n",
    "    # Create Placeholders of shape (n_x, n_y)\n",
    "    X, Y = create_placeholders(n_x, n_y)\n",
    "\n",
    "    # Initialize parameters\n",
    "    parameters = initialize_parameters()\n",
    "    \n",
    "    # Forward propagation: Build the forward propagation in the tensorflow graph\n",
    "    z4 = forward_propagation(X, parameters)\n",
    "    \n",
    "    # Cost function: Add cost function to tensorflow graph\n",
    "    cost = compute_cost(z4, Y)\n",
    "    \n",
    "    # Backpropagation: Define the tensorflow optimizer. Use an AdamOptimizer.\n",
    "    optimizer = tf.train.GradientDescentOptimizer(learning_rate = learning_rate).minimize(cost)\n",
    "    \n",
    "    # Initialize all the variables\n",
    "    init = tf.global_variables_initializer()\n",
    "\n",
    "    # Start the session to compute the tensorflow graph\n",
    "    with tf.Session() as sess:\n",
    "        \n",
    "        # Run the initialization\n",
    "        sess.run(init)\n",
    "        \n",
    "        # Do the training loop\n",
    "        for epoch in range(num_epochs):\n",
    "\n",
    "            minibatch_cost = 0.\n",
    "            num_minibatches = int(m / minibatch_size) # number of minibatches of size minibatch_size in the train set\n",
    "            seed = seed + 1\n",
    "            minibatches = random_mini_batches(X_train, Y_train, minibatch_size, seed)\n",
    "\n",
    "            for minibatch in minibatches:\n",
    "\n",
    "                # Select a minibatch\n",
    "                (minibatch_X, minibatch_Y) = minibatch\n",
    "                \n",
    "                # IMPORTANT: The line that runs the graph on a minibatch.\n",
    "                # Run the session to execute the optimizer and the cost, the feedict should contain a minibatch for (X,Y).\n",
    "                ### START CODE HERE ### (1 line)\n",
    "                _ , temp_cost = sess.run([optimizer, cost], feed_dict={X: minibatch_X, Y: minibatch_Y})\n",
    "                ### END CODE HERE ###\n",
    "                \n",
    "                minibatch_cost += temp_cost / num_minibatches\n",
    "\n",
    "            # Print the cost every epoch\n",
    "            if print_cost == True and epoch % 100 == 0:\n",
    "                print (\"Cost after epoch %i: %f\" % (epoch, minibatch_cost))\n",
    "            if print_cost == True and epoch % 5 == 0:\n",
    "                costs.append(minibatch_cost)\n",
    "                \n",
    "        # plot the cost\n",
    "        plt.plot(np.squeeze(costs))\n",
    "        plt.ylabel('cost')\n",
    "        plt.xlabel('iterations (per tens)')\n",
    "        plt.title(\"Learning rate =\" + str(learning_rate))\n",
    "        plt.show()\n",
    "\n",
    "        # lets save the parameters in a variable\n",
    "        parameters = sess.run(parameters)\n",
    "        print (\"Parameters have been trained!\")\n",
    "\n",
    "        # Calculate the correct predictions\n",
    "        #correct_prediction = tf.abs(tf.subtract(z4, Y))\n",
    "\n",
    "        # Calculate accuracy on the test set\n",
    "        accuracy = compute_cost(z4, Y)\n",
    "\n",
    "        print (\"Train Accuracy:\", accuracy.eval({X: X_train, Y: Y_train}))\n",
    "        \n",
    "        return parameters"
   ]
  },
  {
   "cell_type": "code",
   "execution_count": 158,
   "metadata": {
    "collapsed": true
   },
   "outputs": [],
   "source": [
    "def predict(X, parameters, num_features):\n",
    "    \n",
    "    W1 = tf.convert_to_tensor(parameters[\"W1\"])\n",
    "    b1 = tf.convert_to_tensor(parameters[\"b1\"])\n",
    "    W2 = tf.convert_to_tensor(parameters[\"W2\"])\n",
    "    b2 = tf.convert_to_tensor(parameters[\"b2\"])\n",
    "    W3 = tf.convert_to_tensor(parameters[\"W3\"])\n",
    "    b3 = tf.convert_to_tensor(parameters[\"b3\"])\n",
    "    W4 = tf.convert_to_tensor(parameters[\"W4\"])\n",
    "    b4 = tf.convert_to_tensor(parameters[\"b4\"])\n",
    "    \n",
    "    params = {\"W1\": W1,\n",
    "              \"b1\": b1,\n",
    "              \"W2\": W2,\n",
    "              \"b2\": b2,\n",
    "              \"W3\": W3,\n",
    "              \"b3\": b3,\n",
    "              \"W4\": W4,\n",
    "              \"b4\": b4\n",
    "              }\n",
    "    \n",
    "    x = tf.placeholder(\"float\", [num_features, None])\n",
    "    \n",
    "    z4 = forward_propagation(x, params)\n",
    "    p = tf.nn.sigmoid(z4)\n",
    "    \n",
    "    with tf.Session() as sess:\n",
    "        prediction = sess.run(p, feed_dict = {x: X})\n",
    "        \n",
    "    return prediction"
   ]
  },
  {
   "cell_type": "code",
   "execution_count": 48,
   "metadata": {},
   "outputs": [
    {
     "name": "stderr",
     "output_type": "stream",
     "text": [
      "/Users/cyrilukwajiunor/anaconda3/lib/python3.6/site-packages/h5py/__init__.py:34: FutureWarning: Conversion of the second argument of issubdtype from `float` to `np.floating` is deprecated. In future, it will be treated as `np.float64 == np.dtype(float).type`.\n",
      "  from ._conv import register_converters as _register_converters\n"
     ]
    }
   ],
   "source": [
    "import tensorflow as tf"
   ]
  },
  {
   "cell_type": "code",
   "execution_count": 55,
   "metadata": {
    "collapsed": true
   },
   "outputs": [],
   "source": [
    "import math"
   ]
  },
  {
   "cell_type": "code",
   "execution_count": 181,
   "metadata": {},
   "outputs": [
    {
     "name": "stdout",
     "output_type": "stream",
     "text": [
      "Cost after epoch 0: 0.689662\n",
      "Cost after epoch 100: 0.296265\n",
      "Cost after epoch 200: 0.246149\n",
      "Cost after epoch 300: 0.214631\n",
      "Cost after epoch 400: 0.188138\n",
      "Cost after epoch 500: 0.163434\n",
      "Cost after epoch 600: 0.139805\n",
      "Cost after epoch 700: 0.118003\n",
      "Cost after epoch 800: 0.098321\n",
      "Cost after epoch 900: 0.080279\n"
     ]
    },
    {
     "data": {
      "image/png": "[encoded data removed]",
      "text/plain": [
       "<matplotlib.figure.Figure at 0x119458940>"
      ]
     },
     "metadata": {},
     "output_type": "display_data"
    },
    {
     "name": "stdout",
     "output_type": "stream",
     "text": [
      "Parameters have been trained!\n",
      "Train Accuracy: 0.064759575\n"
     ]
    }
   ],
   "source": [
    "pred_params = model(cX_resampled, cY_resampled, num_epochs=1000)"
   ]
  },
  {
   "cell_type": "code",
   "execution_count": 71,
   "metadata": {},
   "outputs": [],
   "source": [
    "c_test = pd.read_csv(\"data/C_hhold_test.csv\", index_col='id')"
   ]
  },
  {
   "cell_type": "code",
   "execution_count": 72,
   "metadata": {},
   "outputs": [],
   "source": [
    "c_test = impute_vals(c_test)"
   ]
  },
  {
   "cell_type": "code",
   "execution_count": 73,
   "metadata": {},
   "outputs": [],
   "source": [
    "c_test = c_test.fillna(0)"
   ]
  },
  {
   "cell_type": "code",
   "execution_count": 74,
   "metadata": {},
   "outputs": [
    {
     "name": "stdout",
     "output_type": "stream",
     "text": [
      "<class 'pandas.core.frame.DataFrame'>\n",
      "Int64Index: 3187 entries, 6211 to 98377\n",
      "Columns: 163 entries, GRGAYimk to country\n",
      "dtypes: float64(1), int64(29), object(133)\n",
      "memory usage: 4.0+ MB\n"
     ]
    }
   ],
   "source": [
    "c_test.info()"
   ]
  },
  {
   "cell_type": "code",
   "execution_count": 75,
   "metadata": {},
   "outputs": [
    {
     "data": {
      "text/plain": [
       "Index(['LhUIIEHQ', 'PNAiwXUz', 'jmsRIiqp', 'NONtAKOM', 'kLAQgdly', 'WWuPOkor',\n",
       "       'CtFxPQPT', 'GIwNbAsH', 'qLDzvjiU', 'detlNNFh',\n",
       "       ...\n",
       "       'lAvdypjD_SnGME', 'lAvdypjD_UUKOE', 'lAvdypjD_gWylU', 'lAvdypjD_jSoky',\n",
       "       'ARWytYMz_NwjRA', 'ARWytYMz_herus', 'eqJPmiPb_Rrpos', 'eqJPmiPb_mORJu',\n",
       "       'eqJPmiPb_wnPqZ', 'country_C'],\n",
       "      dtype='object', length=795)"
      ]
     },
     "execution_count": 75,
     "metadata": {},
     "output_type": "execute_result"
    }
   ],
   "source": [
    "c_filled_X.columns"
   ]
  },
  {
   "cell_type": "code",
   "execution_count": 76,
   "metadata": {},
   "outputs": [
    {
     "data": {
      "text/plain": [
       "Index(['GRGAYimk', 'DNnBfiSI', 'cNDTCUPU', 'GvTJUYOo', 'vmKoAlVH', 'LhUIIEHQ',\n",
       "       'DTNyjXJp', 'PNAiwXUz', 'ABnhybHK', 'yiuxBjHP',\n",
       "       ...\n",
       "       'AJHrHUkH', 'PaEKIlvv', 'bFEsoTgJ', 'ihACfisf', 'obIQUcpS', 'lAvdypjD',\n",
       "       'ARWytYMz', 'eqJPmiPb', 'mmoCpqWS', 'country'],\n",
       "      dtype='object', length=164)"
      ]
     },
     "execution_count": 76,
     "metadata": {},
     "output_type": "execute_result"
    }
   ],
   "source": [
    "c_hhold_train.columns"
   ]
  },
  {
   "cell_type": "code",
   "execution_count": 77,
   "metadata": {},
   "outputs": [
    {
     "name": "stdout",
     "output_type": "stream",
     "text": [
      "input shape\t(3187, 163)\n",
      "After standardization\t(3187, 163)\n",
      "After one hot encoding of categoricals\t(3187, 773)\n"
     ]
    }
   ],
   "source": [
    "c_test = pre_process_data(c_test, enforce_cols=c_filled_X.columns)"
   ]
  },
  {
   "cell_type": "code",
   "execution_count": 78,
   "metadata": {},
   "outputs": [
    {
     "data": {
      "text/html": [
       "<div>\n",
       "<style>\n",
       "    .dataframe thead tr:only-child th {\n",
       "        text-align: right;\n",
       "    }\n",
       "\n",
       "    .dataframe thead th {\n",
       "        text-align: left;\n",
       "    }\n",
       "\n",
       "    .dataframe tbody tr th {\n",
       "        vertical-align: top;\n",
       "    }\n",
       "</style>\n",
       "<table border=\"1\" class=\"dataframe\">\n",
       "  <thead>\n",
       "    <tr style=\"text-align: right;\">\n",
       "      <th></th>\n",
       "      <th>LhUIIEHQ</th>\n",
       "      <th>PNAiwXUz</th>\n",
       "      <th>jmsRIiqp</th>\n",
       "      <th>NONtAKOM</th>\n",
       "      <th>kLAQgdly</th>\n",
       "      <th>WWuPOkor</th>\n",
       "      <th>CtFxPQPT</th>\n",
       "      <th>GIwNbAsH</th>\n",
       "      <th>qLDzvjiU</th>\n",
       "      <th>detlNNFh</th>\n",
       "      <th>...</th>\n",
       "      <th>gZWEypOM_iqxdn</th>\n",
       "      <th>ihACfisf_hBRam</th>\n",
       "      <th>kZmWbEDL_dakhN</th>\n",
       "      <th>kdkPWxwS_Qicsw</th>\n",
       "      <th>nomHWXYi_Dadfh</th>\n",
       "      <th>nuMtebks_LHhnr</th>\n",
       "      <th>nuMtebks_hZFmB</th>\n",
       "      <th>qCEuAGDU_qQxrL</th>\n",
       "      <th>qbMphwEx_ppCPk</th>\n",
       "      <th>ueeRzZmV_nwsfJ</th>\n",
       "    </tr>\n",
       "    <tr>\n",
       "      <th>id</th>\n",
       "      <th></th>\n",
       "      <th></th>\n",
       "      <th></th>\n",
       "      <th></th>\n",
       "      <th></th>\n",
       "      <th></th>\n",
       "      <th></th>\n",
       "      <th></th>\n",
       "      <th></th>\n",
       "      <th></th>\n",
       "      <th></th>\n",
       "      <th></th>\n",
       "      <th></th>\n",
       "      <th></th>\n",
       "      <th></th>\n",
       "      <th></th>\n",
       "      <th></th>\n",
       "      <th></th>\n",
       "      <th></th>\n",
       "      <th></th>\n",
       "      <th></th>\n",
       "    </tr>\n",
       "  </thead>\n",
       "  <tbody>\n",
       "    <tr>\n",
       "      <th>6211</th>\n",
       "      <td>0.756899</td>\n",
       "      <td>-0.420743</td>\n",
       "      <td>-0.342818</td>\n",
       "      <td>0.819147</td>\n",
       "      <td>1.065812</td>\n",
       "      <td>0.523759</td>\n",
       "      <td>0.301324</td>\n",
       "      <td>0.007565</td>\n",
       "      <td>-0.279542</td>\n",
       "      <td>-0.123344</td>\n",
       "      <td>...</td>\n",
       "      <td>0</td>\n",
       "      <td>0</td>\n",
       "      <td>0</td>\n",
       "      <td>0</td>\n",
       "      <td>0</td>\n",
       "      <td>0</td>\n",
       "      <td>0</td>\n",
       "      <td>0</td>\n",
       "      <td>0</td>\n",
       "      <td>0</td>\n",
       "    </tr>\n",
       "    <tr>\n",
       "      <th>77549</th>\n",
       "      <td>0.756899</td>\n",
       "      <td>1.127713</td>\n",
       "      <td>0.426050</td>\n",
       "      <td>0.819147</td>\n",
       "      <td>-1.013694</td>\n",
       "      <td>0.523759</td>\n",
       "      <td>-9.012596</td>\n",
       "      <td>0.007565</td>\n",
       "      <td>0.525974</td>\n",
       "      <td>-0.123344</td>\n",
       "      <td>...</td>\n",
       "      <td>0</td>\n",
       "      <td>0</td>\n",
       "      <td>0</td>\n",
       "      <td>0</td>\n",
       "      <td>0</td>\n",
       "      <td>0</td>\n",
       "      <td>0</td>\n",
       "      <td>0</td>\n",
       "      <td>0</td>\n",
       "      <td>0</td>\n",
       "    </tr>\n",
       "    <tr>\n",
       "      <th>34834</th>\n",
       "      <td>-0.612912</td>\n",
       "      <td>-0.313953</td>\n",
       "      <td>0.426050</td>\n",
       "      <td>0.819147</td>\n",
       "      <td>1.065812</td>\n",
       "      <td>0.523759</td>\n",
       "      <td>0.260293</td>\n",
       "      <td>0.972001</td>\n",
       "      <td>0.525974</td>\n",
       "      <td>-0.123344</td>\n",
       "      <td>...</td>\n",
       "      <td>0</td>\n",
       "      <td>0</td>\n",
       "      <td>0</td>\n",
       "      <td>0</td>\n",
       "      <td>0</td>\n",
       "      <td>0</td>\n",
       "      <td>0</td>\n",
       "      <td>0</td>\n",
       "      <td>0</td>\n",
       "      <td>0</td>\n",
       "    </tr>\n",
       "    <tr>\n",
       "      <th>74650</th>\n",
       "      <td>-0.612912</td>\n",
       "      <td>-0.207163</td>\n",
       "      <td>-0.342818</td>\n",
       "      <td>0.819147</td>\n",
       "      <td>0.230296</td>\n",
       "      <td>0.523759</td>\n",
       "      <td>-1.216804</td>\n",
       "      <td>0.972001</td>\n",
       "      <td>-0.279542</td>\n",
       "      <td>1.085258</td>\n",
       "      <td>...</td>\n",
       "      <td>0</td>\n",
       "      <td>0</td>\n",
       "      <td>0</td>\n",
       "      <td>0</td>\n",
       "      <td>0</td>\n",
       "      <td>0</td>\n",
       "      <td>0</td>\n",
       "      <td>0</td>\n",
       "      <td>0</td>\n",
       "      <td>0</td>\n",
       "    </tr>\n",
       "    <tr>\n",
       "      <th>65375</th>\n",
       "      <td>0.756899</td>\n",
       "      <td>-0.313953</td>\n",
       "      <td>0.426050</td>\n",
       "      <td>0.819147</td>\n",
       "      <td>0.026059</td>\n",
       "      <td>0.523759</td>\n",
       "      <td>0.342354</td>\n",
       "      <td>0.489783</td>\n",
       "      <td>0.525974</td>\n",
       "      <td>-0.123344</td>\n",
       "      <td>...</td>\n",
       "      <td>0</td>\n",
       "      <td>0</td>\n",
       "      <td>0</td>\n",
       "      <td>0</td>\n",
       "      <td>0</td>\n",
       "      <td>0</td>\n",
       "      <td>0</td>\n",
       "      <td>0</td>\n",
       "      <td>0</td>\n",
       "      <td>0</td>\n",
       "    </tr>\n",
       "  </tbody>\n",
       "</table>\n",
       "<p>5 rows × 795 columns</p>\n",
       "</div>"
      ],
      "text/plain": [
       "       LhUIIEHQ  PNAiwXUz  jmsRIiqp  NONtAKOM  kLAQgdly  WWuPOkor  CtFxPQPT  \\\n",
       "id                                                                            \n",
       "6211   0.756899 -0.420743 -0.342818  0.819147  1.065812  0.523759  0.301324   \n",
       "77549  0.756899  1.127713  0.426050  0.819147 -1.013694  0.523759 -9.012596   \n",
       "34834 -0.612912 -0.313953  0.426050  0.819147  1.065812  0.523759  0.260293   \n",
       "74650 -0.612912 -0.207163 -0.342818  0.819147  0.230296  0.523759 -1.216804   \n",
       "65375  0.756899 -0.313953  0.426050  0.819147  0.026059  0.523759  0.342354   \n",
       "\n",
       "       GIwNbAsH  qLDzvjiU  detlNNFh       ...        gZWEypOM_iqxdn  \\\n",
       "id                                        ...                         \n",
       "6211   0.007565 -0.279542 -0.123344       ...                     0   \n",
       "77549  0.007565  0.525974 -0.123344       ...                     0   \n",
       "34834  0.972001  0.525974 -0.123344       ...                     0   \n",
       "74650  0.972001 -0.279542  1.085258       ...                     0   \n",
       "65375  0.489783  0.525974 -0.123344       ...                     0   \n",
       "\n",
       "       ihACfisf_hBRam  kZmWbEDL_dakhN  kdkPWxwS_Qicsw  nomHWXYi_Dadfh  \\\n",
       "id                                                                      \n",
       "6211                0               0               0               0   \n",
       "77549               0               0               0               0   \n",
       "34834               0               0               0               0   \n",
       "74650               0               0               0               0   \n",
       "65375               0               0               0               0   \n",
       "\n",
       "       nuMtebks_LHhnr  nuMtebks_hZFmB  qCEuAGDU_qQxrL  qbMphwEx_ppCPk  \\\n",
       "id                                                                      \n",
       "6211                0               0               0               0   \n",
       "77549               0               0               0               0   \n",
       "34834               0               0               0               0   \n",
       "74650               0               0               0               0   \n",
       "65375               0               0               0               0   \n",
       "\n",
       "       ueeRzZmV_nwsfJ  \n",
       "id                     \n",
       "6211                0  \n",
       "77549               0  \n",
       "34834               0  \n",
       "74650               0  \n",
       "65375               0  \n",
       "\n",
       "[5 rows x 795 columns]"
      ]
     },
     "execution_count": 78,
     "metadata": {},
     "output_type": "execute_result"
    }
   ],
   "source": [
    "c_test.head()"
   ]
  },
  {
   "cell_type": "code",
   "execution_count": 79,
   "metadata": {},
   "outputs": [
    {
     "data": {
      "text/html": [
       "<div>\n",
       "<style>\n",
       "    .dataframe thead tr:only-child th {\n",
       "        text-align: right;\n",
       "    }\n",
       "\n",
       "    .dataframe thead th {\n",
       "        text-align: left;\n",
       "    }\n",
       "\n",
       "    .dataframe tbody tr th {\n",
       "        vertical-align: top;\n",
       "    }\n",
       "</style>\n",
       "<table border=\"1\" class=\"dataframe\">\n",
       "  <thead>\n",
       "    <tr style=\"text-align: right;\">\n",
       "      <th>id</th>\n",
       "      <th>6211</th>\n",
       "      <th>77549</th>\n",
       "      <th>34834</th>\n",
       "      <th>74650</th>\n",
       "      <th>65375</th>\n",
       "      <th>68425</th>\n",
       "      <th>6142</th>\n",
       "      <th>95572</th>\n",
       "      <th>73658</th>\n",
       "      <th>31069</th>\n",
       "      <th>...</th>\n",
       "      <th>63899</th>\n",
       "      <th>72790</th>\n",
       "      <th>1588</th>\n",
       "      <th>254</th>\n",
       "      <th>68171</th>\n",
       "      <th>6775</th>\n",
       "      <th>88300</th>\n",
       "      <th>35424</th>\n",
       "      <th>81668</th>\n",
       "      <th>98377</th>\n",
       "    </tr>\n",
       "  </thead>\n",
       "  <tbody>\n",
       "    <tr>\n",
       "      <th>LhUIIEHQ</th>\n",
       "      <td>0.756899</td>\n",
       "      <td>0.756899</td>\n",
       "      <td>-0.612912</td>\n",
       "      <td>-0.612912</td>\n",
       "      <td>0.756899</td>\n",
       "      <td>0.756899</td>\n",
       "      <td>-0.612912</td>\n",
       "      <td>-0.612912</td>\n",
       "      <td>-0.612912</td>\n",
       "      <td>-0.612912</td>\n",
       "      <td>...</td>\n",
       "      <td>-0.612912</td>\n",
       "      <td>0.756899</td>\n",
       "      <td>-0.612912</td>\n",
       "      <td>-0.612912</td>\n",
       "      <td>-0.612912</td>\n",
       "      <td>-0.612912</td>\n",
       "      <td>-0.612912</td>\n",
       "      <td>-0.612912</td>\n",
       "      <td>-0.612912</td>\n",
       "      <td>-0.612912</td>\n",
       "    </tr>\n",
       "    <tr>\n",
       "      <th>PNAiwXUz</th>\n",
       "      <td>-0.420743</td>\n",
       "      <td>1.127713</td>\n",
       "      <td>-0.313953</td>\n",
       "      <td>-0.207163</td>\n",
       "      <td>-0.313953</td>\n",
       "      <td>0.807342</td>\n",
       "      <td>-0.313953</td>\n",
       "      <td>-0.367348</td>\n",
       "      <td>-0.313953</td>\n",
       "      <td>-0.367348</td>\n",
       "      <td>...</td>\n",
       "      <td>-0.367348</td>\n",
       "      <td>-0.260558</td>\n",
       "      <td>-0.420743</td>\n",
       "      <td>2.515983</td>\n",
       "      <td>6.040056</td>\n",
       "      <td>-0.367348</td>\n",
       "      <td>-0.367348</td>\n",
       "      <td>2.996539</td>\n",
       "      <td>7.588512</td>\n",
       "      <td>2.515983</td>\n",
       "    </tr>\n",
       "    <tr>\n",
       "      <th>jmsRIiqp</th>\n",
       "      <td>-0.342818</td>\n",
       "      <td>0.426050</td>\n",
       "      <td>0.426050</td>\n",
       "      <td>-0.342818</td>\n",
       "      <td>0.426050</td>\n",
       "      <td>0.426050</td>\n",
       "      <td>-0.342818</td>\n",
       "      <td>0.426050</td>\n",
       "      <td>-0.342818</td>\n",
       "      <td>-0.342818</td>\n",
       "      <td>...</td>\n",
       "      <td>-0.342818</td>\n",
       "      <td>-0.342818</td>\n",
       "      <td>0.426050</td>\n",
       "      <td>-1.111687</td>\n",
       "      <td>-0.342818</td>\n",
       "      <td>-0.342818</td>\n",
       "      <td>-0.342818</td>\n",
       "      <td>0.426050</td>\n",
       "      <td>-1.111687</td>\n",
       "      <td>-1.111687</td>\n",
       "    </tr>\n",
       "    <tr>\n",
       "      <th>NONtAKOM</th>\n",
       "      <td>0.819147</td>\n",
       "      <td>0.819147</td>\n",
       "      <td>0.819147</td>\n",
       "      <td>0.819147</td>\n",
       "      <td>0.819147</td>\n",
       "      <td>0.819147</td>\n",
       "      <td>-0.267706</td>\n",
       "      <td>-0.267706</td>\n",
       "      <td>-0.267706</td>\n",
       "      <td>0.819147</td>\n",
       "      <td>...</td>\n",
       "      <td>-0.811133</td>\n",
       "      <td>0.275720</td>\n",
       "      <td>-0.267706</td>\n",
       "      <td>0.819147</td>\n",
       "      <td>0.819147</td>\n",
       "      <td>0.819147</td>\n",
       "      <td>1.362573</td>\n",
       "      <td>0.819147</td>\n",
       "      <td>0.819147</td>\n",
       "      <td>-0.811133</td>\n",
       "    </tr>\n",
       "    <tr>\n",
       "      <th>kLAQgdly</th>\n",
       "      <td>1.065812</td>\n",
       "      <td>-1.013694</td>\n",
       "      <td>1.065812</td>\n",
       "      <td>0.230296</td>\n",
       "      <td>0.026059</td>\n",
       "      <td>-0.605220</td>\n",
       "      <td>0.323131</td>\n",
       "      <td>-0.716622</td>\n",
       "      <td>-0.493817</td>\n",
       "      <td>1.065812</td>\n",
       "      <td>...</td>\n",
       "      <td>1.065812</td>\n",
       "      <td>0.285997</td>\n",
       "      <td>0.137461</td>\n",
       "      <td>0.193162</td>\n",
       "      <td>0.323131</td>\n",
       "      <td>1.065812</td>\n",
       "      <td>0.230296</td>\n",
       "      <td>-2.053447</td>\n",
       "      <td>0.230296</td>\n",
       "      <td>1.065812</td>\n",
       "    </tr>\n",
       "  </tbody>\n",
       "</table>\n",
       "<p>5 rows × 3187 columns</p>\n",
       "</div>"
      ],
      "text/plain": [
       "id           6211      77549     34834     74650     65375     68425  \\\n",
       "LhUIIEHQ  0.756899  0.756899 -0.612912 -0.612912  0.756899  0.756899   \n",
       "PNAiwXUz -0.420743  1.127713 -0.313953 -0.207163 -0.313953  0.807342   \n",
       "jmsRIiqp -0.342818  0.426050  0.426050 -0.342818  0.426050  0.426050   \n",
       "NONtAKOM  0.819147  0.819147  0.819147  0.819147  0.819147  0.819147   \n",
       "kLAQgdly  1.065812 -1.013694  1.065812  0.230296  0.026059 -0.605220   \n",
       "\n",
       "id           6142      95572     73658     31069    ...        63899  \\\n",
       "LhUIIEHQ -0.612912 -0.612912 -0.612912 -0.612912    ...    -0.612912   \n",
       "PNAiwXUz -0.313953 -0.367348 -0.313953 -0.367348    ...    -0.367348   \n",
       "jmsRIiqp -0.342818  0.426050 -0.342818 -0.342818    ...    -0.342818   \n",
       "NONtAKOM -0.267706 -0.267706 -0.267706  0.819147    ...    -0.811133   \n",
       "kLAQgdly  0.323131 -0.716622 -0.493817  1.065812    ...     1.065812   \n",
       "\n",
       "id           72790     1588      254       68171     6775      88300  \\\n",
       "LhUIIEHQ  0.756899 -0.612912 -0.612912 -0.612912 -0.612912 -0.612912   \n",
       "PNAiwXUz -0.260558 -0.420743  2.515983  6.040056 -0.367348 -0.367348   \n",
       "jmsRIiqp -0.342818  0.426050 -1.111687 -0.342818 -0.342818 -0.342818   \n",
       "NONtAKOM  0.275720 -0.267706  0.819147  0.819147  0.819147  1.362573   \n",
       "kLAQgdly  0.285997  0.137461  0.193162  0.323131  1.065812  0.230296   \n",
       "\n",
       "id           35424     81668     98377  \n",
       "LhUIIEHQ -0.612912 -0.612912 -0.612912  \n",
       "PNAiwXUz  2.996539  7.588512  2.515983  \n",
       "jmsRIiqp  0.426050 -1.111687 -1.111687  \n",
       "NONtAKOM  0.819147  0.819147 -0.811133  \n",
       "kLAQgdly -2.053447  0.230296  1.065812  \n",
       "\n",
       "[5 rows x 3187 columns]"
      ]
     },
     "execution_count": 79,
     "metadata": {},
     "output_type": "execute_result"
    }
   ],
   "source": [
    "c_test = c_test.transpose()\n",
    "c_test.head()"
   ]
  },
  {
   "cell_type": "code",
   "execution_count": 182,
   "metadata": {
    "collapsed": true
   },
   "outputs": [],
   "source": [
    "c_pred = predict(c_test, pred_params, c_test.shape[0])"
   ]
  },
  {
   "cell_type": "code",
   "execution_count": 183,
   "metadata": {},
   "outputs": [],
   "source": [
    "c_pred = c_pred.T"
   ]
  },
  {
   "cell_type": "code",
   "execution_count": 184,
   "metadata": {},
   "outputs": [
    {
     "data": {
      "text/plain": [
       "0.055086"
      ]
     },
     "execution_count": 184,
     "metadata": {},
     "output_type": "execute_result"
    }
   ],
   "source": [
    "c_pred.mean()"
   ]
  },
  {
   "cell_type": "code",
   "execution_count": 134,
   "metadata": {},
   "outputs": [],
   "source": [
    "ctest_cols = c_test.columns.tolist()\n",
    "#c_pred.shape\n",
    "#c = pd.DataFrame({'id': c_test.columns,\n",
    " #                'poor': c_pred})"
   ]
  },
  {
   "cell_type": "code",
   "execution_count": 185,
   "metadata": {},
   "outputs": [
    {
     "data": {
      "text/html": [
       "<div>\n",
       "<style>\n",
       "    .dataframe thead tr:only-child th {\n",
       "        text-align: right;\n",
       "    }\n",
       "\n",
       "    .dataframe thead th {\n",
       "        text-align: left;\n",
       "    }\n",
       "\n",
       "    .dataframe tbody tr th {\n",
       "        vertical-align: top;\n",
       "    }\n",
       "</style>\n",
       "<table border=\"1\" class=\"dataframe\">\n",
       "  <thead>\n",
       "    <tr style=\"text-align: right;\">\n",
       "      <th></th>\n",
       "      <th>id</th>\n",
       "      <th>poor</th>\n",
       "    </tr>\n",
       "  </thead>\n",
       "  <tbody>\n",
       "    <tr>\n",
       "      <th>0</th>\n",
       "      <td>6211</td>\n",
       "      <td>0.266076</td>\n",
       "    </tr>\n",
       "    <tr>\n",
       "      <th>1</th>\n",
       "      <td>77549</td>\n",
       "      <td>0.423129</td>\n",
       "    </tr>\n",
       "    <tr>\n",
       "      <th>2</th>\n",
       "      <td>34834</td>\n",
       "      <td>0.000240</td>\n",
       "    </tr>\n",
       "    <tr>\n",
       "      <th>3</th>\n",
       "      <td>74650</td>\n",
       "      <td>0.000090</td>\n",
       "    </tr>\n",
       "    <tr>\n",
       "      <th>4</th>\n",
       "      <td>65375</td>\n",
       "      <td>0.027414</td>\n",
       "    </tr>\n",
       "  </tbody>\n",
       "</table>\n",
       "</div>"
      ],
      "text/plain": [
       "      id      poor\n",
       "0   6211  0.266076\n",
       "1  77549  0.423129\n",
       "2  34834  0.000240\n",
       "3  74650  0.000090\n",
       "4  65375  0.027414"
      ]
     },
     "execution_count": 185,
     "metadata": {},
     "output_type": "execute_result"
    }
   ],
   "source": [
    "c = pd.DataFrame(data={'id': ctest_cols,'poor': c_pred.flatten()})\n",
    "c.set_index('id')\n",
    "c.head()"
   ]
  },
  {
   "cell_type": "code",
   "execution_count": 126,
   "metadata": {},
   "outputs": [],
   "source": [
    "#c.to_csv('c_test.csv')"
   ]
  },
  {
   "cell_type": "code",
   "execution_count": 186,
   "metadata": {},
   "outputs": [
    {
     "data": {
      "text/html": [
       "<div>\n",
       "<style>\n",
       "    .dataframe thead tr:only-child th {\n",
       "        text-align: right;\n",
       "    }\n",
       "\n",
       "    .dataframe thead th {\n",
       "        text-align: left;\n",
       "    }\n",
       "\n",
       "    .dataframe tbody tr th {\n",
       "        vertical-align: top;\n",
       "    }\n",
       "</style>\n",
       "<table border=\"1\" class=\"dataframe\">\n",
       "  <thead>\n",
       "    <tr style=\"text-align: right;\">\n",
       "      <th></th>\n",
       "      <th>id</th>\n",
       "      <th>poor</th>\n",
       "    </tr>\n",
       "  </thead>\n",
       "  <tbody>\n",
       "    <tr>\n",
       "      <th>0</th>\n",
       "      <td>6211</td>\n",
       "      <td>2.660757e-01</td>\n",
       "    </tr>\n",
       "    <tr>\n",
       "      <th>1</th>\n",
       "      <td>77549</td>\n",
       "      <td>4.231291e-01</td>\n",
       "    </tr>\n",
       "    <tr>\n",
       "      <th>2</th>\n",
       "      <td>34834</td>\n",
       "      <td>2.399979e-04</td>\n",
       "    </tr>\n",
       "    <tr>\n",
       "      <th>3</th>\n",
       "      <td>74650</td>\n",
       "      <td>9.022669e-05</td>\n",
       "    </tr>\n",
       "    <tr>\n",
       "      <th>4</th>\n",
       "      <td>65375</td>\n",
       "      <td>2.741361e-02</td>\n",
       "    </tr>\n",
       "    <tr>\n",
       "      <th>5</th>\n",
       "      <td>68425</td>\n",
       "      <td>7.230600e-03</td>\n",
       "    </tr>\n",
       "    <tr>\n",
       "      <th>6</th>\n",
       "      <td>6142</td>\n",
       "      <td>1.067735e-02</td>\n",
       "    </tr>\n",
       "    <tr>\n",
       "      <th>7</th>\n",
       "      <td>95572</td>\n",
       "      <td>1.884929e-04</td>\n",
       "    </tr>\n",
       "    <tr>\n",
       "      <th>8</th>\n",
       "      <td>73658</td>\n",
       "      <td>1.323419e-01</td>\n",
       "    </tr>\n",
       "    <tr>\n",
       "      <th>9</th>\n",
       "      <td>31069</td>\n",
       "      <td>2.178634e-02</td>\n",
       "    </tr>\n",
       "    <tr>\n",
       "      <th>10</th>\n",
       "      <td>9024</td>\n",
       "      <td>3.437161e-02</td>\n",
       "    </tr>\n",
       "    <tr>\n",
       "      <th>11</th>\n",
       "      <td>27893</td>\n",
       "      <td>6.345469e-05</td>\n",
       "    </tr>\n",
       "    <tr>\n",
       "      <th>12</th>\n",
       "      <td>74166</td>\n",
       "      <td>1.704196e-04</td>\n",
       "    </tr>\n",
       "    <tr>\n",
       "      <th>13</th>\n",
       "      <td>47343</td>\n",
       "      <td>3.503394e-03</td>\n",
       "    </tr>\n",
       "    <tr>\n",
       "      <th>14</th>\n",
       "      <td>21254</td>\n",
       "      <td>7.384011e-01</td>\n",
       "    </tr>\n",
       "    <tr>\n",
       "      <th>15</th>\n",
       "      <td>64173</td>\n",
       "      <td>1.102411e-02</td>\n",
       "    </tr>\n",
       "    <tr>\n",
       "      <th>16</th>\n",
       "      <td>76702</td>\n",
       "      <td>1.119635e-02</td>\n",
       "    </tr>\n",
       "    <tr>\n",
       "      <th>17</th>\n",
       "      <td>70905</td>\n",
       "      <td>3.717291e-02</td>\n",
       "    </tr>\n",
       "    <tr>\n",
       "      <th>18</th>\n",
       "      <td>59402</td>\n",
       "      <td>4.404258e-06</td>\n",
       "    </tr>\n",
       "    <tr>\n",
       "      <th>19</th>\n",
       "      <td>3184</td>\n",
       "      <td>1.585167e-01</td>\n",
       "    </tr>\n",
       "    <tr>\n",
       "      <th>20</th>\n",
       "      <td>60940</td>\n",
       "      <td>1.301754e-03</td>\n",
       "    </tr>\n",
       "    <tr>\n",
       "      <th>21</th>\n",
       "      <td>5321</td>\n",
       "      <td>7.601200e-03</td>\n",
       "    </tr>\n",
       "    <tr>\n",
       "      <th>22</th>\n",
       "      <td>53921</td>\n",
       "      <td>1.824133e-01</td>\n",
       "    </tr>\n",
       "    <tr>\n",
       "      <th>23</th>\n",
       "      <td>22329</td>\n",
       "      <td>5.218269e-03</td>\n",
       "    </tr>\n",
       "    <tr>\n",
       "      <th>24</th>\n",
       "      <td>64979</td>\n",
       "      <td>5.733693e-01</td>\n",
       "    </tr>\n",
       "    <tr>\n",
       "      <th>25</th>\n",
       "      <td>62337</td>\n",
       "      <td>1.072363e-03</td>\n",
       "    </tr>\n",
       "    <tr>\n",
       "      <th>26</th>\n",
       "      <td>28357</td>\n",
       "      <td>1.382956e-03</td>\n",
       "    </tr>\n",
       "    <tr>\n",
       "      <th>27</th>\n",
       "      <td>94493</td>\n",
       "      <td>4.055832e-02</td>\n",
       "    </tr>\n",
       "    <tr>\n",
       "      <th>28</th>\n",
       "      <td>67078</td>\n",
       "      <td>3.551175e-04</td>\n",
       "    </tr>\n",
       "    <tr>\n",
       "      <th>29</th>\n",
       "      <td>15625</td>\n",
       "      <td>3.649451e-05</td>\n",
       "    </tr>\n",
       "    <tr>\n",
       "      <th>...</th>\n",
       "      <td>...</td>\n",
       "      <td>...</td>\n",
       "    </tr>\n",
       "    <tr>\n",
       "      <th>3157</th>\n",
       "      <td>51512</td>\n",
       "      <td>1.744112e-03</td>\n",
       "    </tr>\n",
       "    <tr>\n",
       "      <th>3158</th>\n",
       "      <td>52284</td>\n",
       "      <td>8.528892e-01</td>\n",
       "    </tr>\n",
       "    <tr>\n",
       "      <th>3159</th>\n",
       "      <td>2281</td>\n",
       "      <td>1.603831e-03</td>\n",
       "    </tr>\n",
       "    <tr>\n",
       "      <th>3160</th>\n",
       "      <td>50913</td>\n",
       "      <td>1.321871e-02</td>\n",
       "    </tr>\n",
       "    <tr>\n",
       "      <th>3161</th>\n",
       "      <td>37129</td>\n",
       "      <td>3.104157e-04</td>\n",
       "    </tr>\n",
       "    <tr>\n",
       "      <th>3162</th>\n",
       "      <td>64351</td>\n",
       "      <td>2.941339e-02</td>\n",
       "    </tr>\n",
       "    <tr>\n",
       "      <th>3163</th>\n",
       "      <td>89726</td>\n",
       "      <td>5.414552e-03</td>\n",
       "    </tr>\n",
       "    <tr>\n",
       "      <th>3164</th>\n",
       "      <td>91465</td>\n",
       "      <td>1.367496e-02</td>\n",
       "    </tr>\n",
       "    <tr>\n",
       "      <th>3165</th>\n",
       "      <td>30676</td>\n",
       "      <td>1.910032e-03</td>\n",
       "    </tr>\n",
       "    <tr>\n",
       "      <th>3166</th>\n",
       "      <td>98493</td>\n",
       "      <td>3.037849e-02</td>\n",
       "    </tr>\n",
       "    <tr>\n",
       "      <th>3167</th>\n",
       "      <td>88475</td>\n",
       "      <td>1.691409e-05</td>\n",
       "    </tr>\n",
       "    <tr>\n",
       "      <th>3168</th>\n",
       "      <td>96504</td>\n",
       "      <td>1.010577e-02</td>\n",
       "    </tr>\n",
       "    <tr>\n",
       "      <th>3169</th>\n",
       "      <td>51200</td>\n",
       "      <td>6.635683e-04</td>\n",
       "    </tr>\n",
       "    <tr>\n",
       "      <th>3170</th>\n",
       "      <td>94912</td>\n",
       "      <td>1.410553e-03</td>\n",
       "    </tr>\n",
       "    <tr>\n",
       "      <th>3171</th>\n",
       "      <td>7588</td>\n",
       "      <td>4.422121e-02</td>\n",
       "    </tr>\n",
       "    <tr>\n",
       "      <th>3172</th>\n",
       "      <td>35668</td>\n",
       "      <td>2.864896e-02</td>\n",
       "    </tr>\n",
       "    <tr>\n",
       "      <th>3173</th>\n",
       "      <td>6137</td>\n",
       "      <td>3.519254e-04</td>\n",
       "    </tr>\n",
       "    <tr>\n",
       "      <th>3174</th>\n",
       "      <td>87474</td>\n",
       "      <td>5.387933e-04</td>\n",
       "    </tr>\n",
       "    <tr>\n",
       "      <th>3175</th>\n",
       "      <td>99992</td>\n",
       "      <td>2.165265e-04</td>\n",
       "    </tr>\n",
       "    <tr>\n",
       "      <th>3176</th>\n",
       "      <td>8544</td>\n",
       "      <td>5.811181e-03</td>\n",
       "    </tr>\n",
       "    <tr>\n",
       "      <th>3177</th>\n",
       "      <td>63899</td>\n",
       "      <td>1.389141e-03</td>\n",
       "    </tr>\n",
       "    <tr>\n",
       "      <th>3178</th>\n",
       "      <td>72790</td>\n",
       "      <td>4.999791e-01</td>\n",
       "    </tr>\n",
       "    <tr>\n",
       "      <th>3179</th>\n",
       "      <td>1588</td>\n",
       "      <td>2.605783e-07</td>\n",
       "    </tr>\n",
       "    <tr>\n",
       "      <th>3180</th>\n",
       "      <td>254</td>\n",
       "      <td>4.059717e-02</td>\n",
       "    </tr>\n",
       "    <tr>\n",
       "      <th>3181</th>\n",
       "      <td>68171</td>\n",
       "      <td>2.497532e-02</td>\n",
       "    </tr>\n",
       "    <tr>\n",
       "      <th>3182</th>\n",
       "      <td>6775</td>\n",
       "      <td>4.879903e-03</td>\n",
       "    </tr>\n",
       "    <tr>\n",
       "      <th>3183</th>\n",
       "      <td>88300</td>\n",
       "      <td>7.615819e-06</td>\n",
       "    </tr>\n",
       "    <tr>\n",
       "      <th>3184</th>\n",
       "      <td>35424</td>\n",
       "      <td>3.626477e-02</td>\n",
       "    </tr>\n",
       "    <tr>\n",
       "      <th>3185</th>\n",
       "      <td>81668</td>\n",
       "      <td>3.046168e-04</td>\n",
       "    </tr>\n",
       "    <tr>\n",
       "      <th>3186</th>\n",
       "      <td>98377</td>\n",
       "      <td>3.036984e-11</td>\n",
       "    </tr>\n",
       "  </tbody>\n",
       "</table>\n",
       "<p>3187 rows × 2 columns</p>\n",
       "</div>"
      ],
      "text/plain": [
       "         id          poor\n",
       "0      6211  2.660757e-01\n",
       "1     77549  4.231291e-01\n",
       "2     34834  2.399979e-04\n",
       "3     74650  9.022669e-05\n",
       "4     65375  2.741361e-02\n",
       "5     68425  7.230600e-03\n",
       "6      6142  1.067735e-02\n",
       "7     95572  1.884929e-04\n",
       "8     73658  1.323419e-01\n",
       "9     31069  2.178634e-02\n",
       "10     9024  3.437161e-02\n",
       "11    27893  6.345469e-05\n",
       "12    74166  1.704196e-04\n",
       "13    47343  3.503394e-03\n",
       "14    21254  7.384011e-01\n",
       "15    64173  1.102411e-02\n",
       "16    76702  1.119635e-02\n",
       "17    70905  3.717291e-02\n",
       "18    59402  4.404258e-06\n",
       "19     3184  1.585167e-01\n",
       "20    60940  1.301754e-03\n",
       "21     5321  7.601200e-03\n",
       "22    53921  1.824133e-01\n",
       "23    22329  5.218269e-03\n",
       "24    64979  5.733693e-01\n",
       "25    62337  1.072363e-03\n",
       "26    28357  1.382956e-03\n",
       "27    94493  4.055832e-02\n",
       "28    67078  3.551175e-04\n",
       "29    15625  3.649451e-05\n",
       "...     ...           ...\n",
       "3157  51512  1.744112e-03\n",
       "3158  52284  8.528892e-01\n",
       "3159   2281  1.603831e-03\n",
       "3160  50913  1.321871e-02\n",
       "3161  37129  3.104157e-04\n",
       "3162  64351  2.941339e-02\n",
       "3163  89726  5.414552e-03\n",
       "3164  91465  1.367496e-02\n",
       "3165  30676  1.910032e-03\n",
       "3166  98493  3.037849e-02\n",
       "3167  88475  1.691409e-05\n",
       "3168  96504  1.010577e-02\n",
       "3169  51200  6.635683e-04\n",
       "3170  94912  1.410553e-03\n",
       "3171   7588  4.422121e-02\n",
       "3172  35668  2.864896e-02\n",
       "3173   6137  3.519254e-04\n",
       "3174  87474  5.387933e-04\n",
       "3175  99992  2.165265e-04\n",
       "3176   8544  5.811181e-03\n",
       "3177  63899  1.389141e-03\n",
       "3178  72790  4.999791e-01\n",
       "3179   1588  2.605783e-07\n",
       "3180    254  4.059717e-02\n",
       "3181  68171  2.497532e-02\n",
       "3182   6775  4.879903e-03\n",
       "3183  88300  7.615819e-06\n",
       "3184  35424  3.626477e-02\n",
       "3185  81668  3.046168e-04\n",
       "3186  98377  3.036984e-11\n",
       "\n",
       "[3187 rows x 2 columns]"
      ]
     },
     "execution_count": 186,
     "metadata": {},
     "output_type": "execute_result"
    }
   ],
   "source": [
    "c"
   ]
  },
  {
   "cell_type": "code",
   "execution_count": 172,
   "metadata": {},
   "outputs": [
    {
     "data": {
      "text/plain": [
       "array([[0., 1., 1., ..., 1., 1., 1.]])"
      ]
     },
     "execution_count": 172,
     "metadata": {},
     "output_type": "execute_result"
    }
   ],
   "source": [
    "cY_resampled"
   ]
  },
  {
   "cell_type": "code",
   "execution_count": null,
   "metadata": {
    "collapsed": true
   },
   "outputs": [],
   "source": []
  }
 ],
 "metadata": {
  "kernelspec": {
   "display_name": "Python 3",
   "language": "python",
   "name": "python3"
  },
  "language_info": {
   "codemirror_mode": {
    "name": "ipython",
    "version": 3
   },
   "file_extension": ".py",
   "mimetype": "text/x-python",
   "name": "python",
   "nbconvert_exporter": "python",
   "pygments_lexer": "ipython3",
   "version": "3.6.3"
  }
 },
 "nbformat": 4,
 "nbformat_minor": 2
}
