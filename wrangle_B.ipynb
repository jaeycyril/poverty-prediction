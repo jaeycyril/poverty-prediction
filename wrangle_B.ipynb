{
 "cells": [
  {
   "cell_type": "code",
   "execution_count": 1,
   "metadata": {
    "collapsed": true
   },
   "outputs": [],
   "source": [
    "import numpy as np\n",
    "import pandas as pd\n",
    "import tensorflow as tf\n",
    "import matplotlib.pyplot as plt\n",
    "%matplotlib inline"
   ]
  },
  {
   "cell_type": "code",
   "execution_count": 2,
   "metadata": {
    "collapsed": true
   },
   "outputs": [],
   "source": [
    "b_hhold_train = pd.read_csv(\"data/B_hhold_train.csv\", index_col='id')"
   ]
  },
  {
   "cell_type": "code",
   "execution_count": 3,
   "metadata": {},
   "outputs": [
    {
     "data": {
      "text/html": [
       "<div>\n",
       "<style>\n",
       "    .dataframe thead tr:only-child th {\n",
       "        text-align: right;\n",
       "    }\n",
       "\n",
       "    .dataframe thead th {\n",
       "        text-align: left;\n",
       "    }\n",
       "\n",
       "    .dataframe tbody tr th {\n",
       "        vertical-align: top;\n",
       "    }\n",
       "</style>\n",
       "<table border=\"1\" class=\"dataframe\">\n",
       "  <thead>\n",
       "    <tr style=\"text-align: right;\">\n",
       "      <th></th>\n",
       "      <th>RzaXNcgd</th>\n",
       "      <th>LfWEhutI</th>\n",
       "      <th>jXOqJdNL</th>\n",
       "      <th>wJthinfa</th>\n",
       "      <th>PTLgvdlQ</th>\n",
       "      <th>ZvEApWrk</th>\n",
       "      <th>euTESpHe</th>\n",
       "      <th>bDVMMSYY</th>\n",
       "      <th>aSzMhjgD</th>\n",
       "      <th>ZehDbxxy</th>\n",
       "      <th>...</th>\n",
       "      <th>YVMuyCUV</th>\n",
       "      <th>AZVtosGB</th>\n",
       "      <th>toZzckhe</th>\n",
       "      <th>BkiXyuSp</th>\n",
       "      <th>ggucvVUs</th>\n",
       "      <th>VMvwrYds</th>\n",
       "      <th>VlNidRNP</th>\n",
       "      <th>rljjAmaN</th>\n",
       "      <th>ChbSWYhO</th>\n",
       "      <th>country</th>\n",
       "    </tr>\n",
       "    <tr>\n",
       "      <th>id</th>\n",
       "      <th></th>\n",
       "      <th></th>\n",
       "      <th></th>\n",
       "      <th></th>\n",
       "      <th></th>\n",
       "      <th></th>\n",
       "      <th></th>\n",
       "      <th></th>\n",
       "      <th></th>\n",
       "      <th></th>\n",
       "      <th></th>\n",
       "      <th></th>\n",
       "      <th></th>\n",
       "      <th></th>\n",
       "      <th></th>\n",
       "      <th></th>\n",
       "      <th></th>\n",
       "      <th></th>\n",
       "      <th></th>\n",
       "      <th></th>\n",
       "      <th></th>\n",
       "    </tr>\n",
       "  </thead>\n",
       "  <tbody>\n",
       "    <tr>\n",
       "      <th>57071</th>\n",
       "      <td>zTghO</td>\n",
       "      <td>pYfmQ</td>\n",
       "      <td>lNhMv</td>\n",
       "      <td>42</td>\n",
       "      <td>RQnVj</td>\n",
       "      <td>103</td>\n",
       "      <td>jpSeC</td>\n",
       "      <td>FDqwJ</td>\n",
       "      <td>rxJJI</td>\n",
       "      <td>IbWRL</td>\n",
       "      <td>...</td>\n",
       "      <td>nZcTi</td>\n",
       "      <td>pdvWY</td>\n",
       "      <td>LLuZj</td>\n",
       "      <td>qpzpO</td>\n",
       "      <td>kZRgh</td>\n",
       "      <td>VwGOP</td>\n",
       "      <td>DScEf</td>\n",
       "      <td>SKBnS</td>\n",
       "      <td>Enull</td>\n",
       "      <td>B</td>\n",
       "    </tr>\n",
       "    <tr>\n",
       "      <th>18973</th>\n",
       "      <td>zTghO</td>\n",
       "      <td>pYfmQ</td>\n",
       "      <td>lNhMv</td>\n",
       "      <td>34</td>\n",
       "      <td>iuxWN</td>\n",
       "      <td>-2</td>\n",
       "      <td>OLVWN</td>\n",
       "      <td>FDqwJ</td>\n",
       "      <td>ufugi</td>\n",
       "      <td>IbWRL</td>\n",
       "      <td>...</td>\n",
       "      <td>nZcTi</td>\n",
       "      <td>XrijK</td>\n",
       "      <td>LLuZj</td>\n",
       "      <td>qpzpO</td>\n",
       "      <td>kZRgh</td>\n",
       "      <td>VwGOP</td>\n",
       "      <td>JOdCB</td>\n",
       "      <td>SKBnS</td>\n",
       "      <td>Enull</td>\n",
       "      <td>B</td>\n",
       "    </tr>\n",
       "    <tr>\n",
       "      <th>20151</th>\n",
       "      <td>zTghO</td>\n",
       "      <td>pYfmQ</td>\n",
       "      <td>lNhMv</td>\n",
       "      <td>34</td>\n",
       "      <td>iuxWN</td>\n",
       "      <td>313</td>\n",
       "      <td>OMRWa</td>\n",
       "      <td>FDqwJ</td>\n",
       "      <td>rxJJI</td>\n",
       "      <td>IbWRL</td>\n",
       "      <td>...</td>\n",
       "      <td>nZcTi</td>\n",
       "      <td>FEjSW</td>\n",
       "      <td>lmjln</td>\n",
       "      <td>qpzpO</td>\n",
       "      <td>kZRgh</td>\n",
       "      <td>VwGOP</td>\n",
       "      <td>JOdCB</td>\n",
       "      <td>SKBnS</td>\n",
       "      <td>Enull</td>\n",
       "      <td>B</td>\n",
       "    </tr>\n",
       "    <tr>\n",
       "      <th>5730</th>\n",
       "      <td>zTghO</td>\n",
       "      <td>pYfmQ</td>\n",
       "      <td>lNhMv</td>\n",
       "      <td>58</td>\n",
       "      <td>iuxWN</td>\n",
       "      <td>138</td>\n",
       "      <td>jpSeC</td>\n",
       "      <td>FDqwJ</td>\n",
       "      <td>rxJJI</td>\n",
       "      <td>IbWRL</td>\n",
       "      <td>...</td>\n",
       "      <td>nZcTi</td>\n",
       "      <td>XrijK</td>\n",
       "      <td>lmjln</td>\n",
       "      <td>ZZzXr</td>\n",
       "      <td>kZRgh</td>\n",
       "      <td>VwGOP</td>\n",
       "      <td>ZwQQe</td>\n",
       "      <td>SKBnS</td>\n",
       "      <td>Enull</td>\n",
       "      <td>B</td>\n",
       "    </tr>\n",
       "    <tr>\n",
       "      <th>35033</th>\n",
       "      <td>zTghO</td>\n",
       "      <td>pYfmQ</td>\n",
       "      <td>lNhMv</td>\n",
       "      <td>122</td>\n",
       "      <td>iuxWN</td>\n",
       "      <td>68</td>\n",
       "      <td>OLVWN</td>\n",
       "      <td>FDqwJ</td>\n",
       "      <td>rxJJI</td>\n",
       "      <td>IbWRL</td>\n",
       "      <td>...</td>\n",
       "      <td>nZcTi</td>\n",
       "      <td>CRHYU</td>\n",
       "      <td>lmjln</td>\n",
       "      <td>qpzpO</td>\n",
       "      <td>kZRgh</td>\n",
       "      <td>VwGOP</td>\n",
       "      <td>WFgZH</td>\n",
       "      <td>SKBnS</td>\n",
       "      <td>Enull</td>\n",
       "      <td>B</td>\n",
       "    </tr>\n",
       "  </tbody>\n",
       "</table>\n",
       "<p>5 rows × 442 columns</p>\n",
       "</div>"
      ],
      "text/plain": [
       "      RzaXNcgd LfWEhutI jXOqJdNL  wJthinfa PTLgvdlQ  ZvEApWrk euTESpHe  \\\n",
       "id                                                                       \n",
       "57071    zTghO    pYfmQ    lNhMv        42    RQnVj       103    jpSeC   \n",
       "18973    zTghO    pYfmQ    lNhMv        34    iuxWN        -2    OLVWN   \n",
       "20151    zTghO    pYfmQ    lNhMv        34    iuxWN       313    OMRWa   \n",
       "5730     zTghO    pYfmQ    lNhMv        58    iuxWN       138    jpSeC   \n",
       "35033    zTghO    pYfmQ    lNhMv       122    iuxWN        68    OLVWN   \n",
       "\n",
       "      bDVMMSYY aSzMhjgD ZehDbxxy   ...   YVMuyCUV AZVtosGB toZzckhe BkiXyuSp  \\\n",
       "id                                 ...                                         \n",
       "57071    FDqwJ    rxJJI    IbWRL   ...      nZcTi    pdvWY    LLuZj    qpzpO   \n",
       "18973    FDqwJ    ufugi    IbWRL   ...      nZcTi    XrijK    LLuZj    qpzpO   \n",
       "20151    FDqwJ    rxJJI    IbWRL   ...      nZcTi    FEjSW    lmjln    qpzpO   \n",
       "5730     FDqwJ    rxJJI    IbWRL   ...      nZcTi    XrijK    lmjln    ZZzXr   \n",
       "35033    FDqwJ    rxJJI    IbWRL   ...      nZcTi    CRHYU    lmjln    qpzpO   \n",
       "\n",
       "      ggucvVUs VMvwrYds VlNidRNP rljjAmaN ChbSWYhO country  \n",
       "id                                                          \n",
       "57071    kZRgh    VwGOP    DScEf    SKBnS    Enull       B  \n",
       "18973    kZRgh    VwGOP    JOdCB    SKBnS    Enull       B  \n",
       "20151    kZRgh    VwGOP    JOdCB    SKBnS    Enull       B  \n",
       "5730     kZRgh    VwGOP    ZwQQe    SKBnS    Enull       B  \n",
       "35033    kZRgh    VwGOP    WFgZH    SKBnS    Enull       B  \n",
       "\n",
       "[5 rows x 442 columns]"
      ]
     },
     "execution_count": 3,
     "metadata": {},
     "output_type": "execute_result"
    }
   ],
   "source": [
    "b_hhold_train.head()"
   ]
  },
  {
   "cell_type": "code",
   "execution_count": 4,
   "metadata": {},
   "outputs": [
    {
     "name": "stdout",
     "output_type": "stream",
     "text": [
      "<class 'pandas.core.frame.DataFrame'>\n",
      "Int64Index: 3255 entries, 57071 to 4923\n",
      "Columns: 442 entries, RzaXNcgd to country\n",
      "dtypes: bool(1), float64(9), int64(14), object(418)\n",
      "memory usage: 11.0+ MB\n"
     ]
    }
   ],
   "source": [
    "b_hhold_train.info()"
   ]
  },
  {
   "cell_type": "code",
   "execution_count": 5,
   "metadata": {},
   "outputs": [
    {
     "data": {
      "text/html": [
       "<div>\n",
       "<style>\n",
       "    .dataframe thead tr:only-child th {\n",
       "        text-align: right;\n",
       "    }\n",
       "\n",
       "    .dataframe thead th {\n",
       "        text-align: left;\n",
       "    }\n",
       "\n",
       "    .dataframe tbody tr th {\n",
       "        vertical-align: top;\n",
       "    }\n",
       "</style>\n",
       "<table border=\"1\" class=\"dataframe\">\n",
       "  <thead>\n",
       "    <tr style=\"text-align: right;\">\n",
       "      <th></th>\n",
       "      <th>wJthinfa</th>\n",
       "      <th>ZvEApWrk</th>\n",
       "      <th>vuQrLzvK</th>\n",
       "      <th>FGWqGkmD</th>\n",
       "      <th>qrOrXLPM</th>\n",
       "      <th>BXOWgPgL</th>\n",
       "      <th>umkFMfvA</th>\n",
       "      <th>McFBIGsm</th>\n",
       "      <th>NjDdhqIe</th>\n",
       "      <th>rCVqiShm</th>\n",
       "      <th>...</th>\n",
       "      <th>IrxBnWxE</th>\n",
       "      <th>BRzuVmyf</th>\n",
       "      <th>dnlnKrAg</th>\n",
       "      <th>VyHofjLM</th>\n",
       "      <th>GrLBZowF</th>\n",
       "      <th>oszSdLhD</th>\n",
       "      <th>aAufyreG</th>\n",
       "      <th>cDhZjxaW</th>\n",
       "      <th>OSmfjCbE</th>\n",
       "      <th>IOMvIGQS</th>\n",
       "    </tr>\n",
       "    <tr>\n",
       "      <th>id</th>\n",
       "      <th></th>\n",
       "      <th></th>\n",
       "      <th></th>\n",
       "      <th></th>\n",
       "      <th></th>\n",
       "      <th></th>\n",
       "      <th></th>\n",
       "      <th></th>\n",
       "      <th></th>\n",
       "      <th></th>\n",
       "      <th></th>\n",
       "      <th></th>\n",
       "      <th></th>\n",
       "      <th></th>\n",
       "      <th></th>\n",
       "      <th></th>\n",
       "      <th></th>\n",
       "      <th></th>\n",
       "      <th></th>\n",
       "      <th></th>\n",
       "      <th></th>\n",
       "    </tr>\n",
       "  </thead>\n",
       "  <tbody>\n",
       "    <tr>\n",
       "      <th>57071</th>\n",
       "      <td>42</td>\n",
       "      <td>103</td>\n",
       "      <td>67</td>\n",
       "      <td>NaN</td>\n",
       "      <td>16</td>\n",
       "      <td>NaN</td>\n",
       "      <td>NaN</td>\n",
       "      <td>NaN</td>\n",
       "      <td>98</td>\n",
       "      <td>-18</td>\n",
       "      <td>...</td>\n",
       "      <td>NaN</td>\n",
       "      <td>15.0</td>\n",
       "      <td>-15927.0</td>\n",
       "      <td>2</td>\n",
       "      <td>-4</td>\n",
       "      <td>1</td>\n",
       "      <td>66.0</td>\n",
       "      <td>-59</td>\n",
       "      <td>NaN</td>\n",
       "      <td>100</td>\n",
       "    </tr>\n",
       "    <tr>\n",
       "      <th>18973</th>\n",
       "      <td>34</td>\n",
       "      <td>-2</td>\n",
       "      <td>92</td>\n",
       "      <td>NaN</td>\n",
       "      <td>16</td>\n",
       "      <td>NaN</td>\n",
       "      <td>NaN</td>\n",
       "      <td>NaN</td>\n",
       "      <td>-7</td>\n",
       "      <td>-38</td>\n",
       "      <td>...</td>\n",
       "      <td>NaN</td>\n",
       "      <td>21.0</td>\n",
       "      <td>NaN</td>\n",
       "      <td>2</td>\n",
       "      <td>-4</td>\n",
       "      <td>1</td>\n",
       "      <td>21.0</td>\n",
       "      <td>-59</td>\n",
       "      <td>NaN</td>\n",
       "      <td>75</td>\n",
       "    </tr>\n",
       "    <tr>\n",
       "      <th>20151</th>\n",
       "      <td>34</td>\n",
       "      <td>313</td>\n",
       "      <td>97</td>\n",
       "      <td>NaN</td>\n",
       "      <td>24</td>\n",
       "      <td>NaN</td>\n",
       "      <td>NaN</td>\n",
       "      <td>NaN</td>\n",
       "      <td>308</td>\n",
       "      <td>-10</td>\n",
       "      <td>...</td>\n",
       "      <td>NaN</td>\n",
       "      <td>66.0</td>\n",
       "      <td>NaN</td>\n",
       "      <td>2</td>\n",
       "      <td>-10</td>\n",
       "      <td>1</td>\n",
       "      <td>NaN</td>\n",
       "      <td>1</td>\n",
       "      <td>NaN</td>\n",
       "      <td>150</td>\n",
       "    </tr>\n",
       "    <tr>\n",
       "      <th>5730</th>\n",
       "      <td>58</td>\n",
       "      <td>138</td>\n",
       "      <td>-64</td>\n",
       "      <td>NaN</td>\n",
       "      <td>24</td>\n",
       "      <td>150.0</td>\n",
       "      <td>NaN</td>\n",
       "      <td>305.0</td>\n",
       "      <td>133</td>\n",
       "      <td>-48</td>\n",
       "      <td>...</td>\n",
       "      <td>NaN</td>\n",
       "      <td>36.0</td>\n",
       "      <td>NaN</td>\n",
       "      <td>2</td>\n",
       "      <td>-184</td>\n",
       "      <td>1</td>\n",
       "      <td>NaN</td>\n",
       "      <td>-59</td>\n",
       "      <td>-506.0</td>\n",
       "      <td>100</td>\n",
       "    </tr>\n",
       "    <tr>\n",
       "      <th>35033</th>\n",
       "      <td>122</td>\n",
       "      <td>68</td>\n",
       "      <td>-54</td>\n",
       "      <td>NaN</td>\n",
       "      <td>24</td>\n",
       "      <td>0.0</td>\n",
       "      <td>NaN</td>\n",
       "      <td>5.0</td>\n",
       "      <td>63</td>\n",
       "      <td>-28</td>\n",
       "      <td>...</td>\n",
       "      <td>NaN</td>\n",
       "      <td>15.0</td>\n",
       "      <td>NaN</td>\n",
       "      <td>2</td>\n",
       "      <td>-244</td>\n",
       "      <td>1</td>\n",
       "      <td>NaN</td>\n",
       "      <td>-39</td>\n",
       "      <td>-6.0</td>\n",
       "      <td>50</td>\n",
       "    </tr>\n",
       "  </tbody>\n",
       "</table>\n",
       "<p>5 rows × 23 columns</p>\n",
       "</div>"
      ],
      "text/plain": [
       "       wJthinfa  ZvEApWrk  vuQrLzvK  FGWqGkmD  qrOrXLPM  BXOWgPgL  umkFMfvA  \\\n",
       "id                                                                            \n",
       "57071        42       103        67       NaN        16       NaN       NaN   \n",
       "18973        34        -2        92       NaN        16       NaN       NaN   \n",
       "20151        34       313        97       NaN        24       NaN       NaN   \n",
       "5730         58       138       -64       NaN        24     150.0       NaN   \n",
       "35033       122        68       -54       NaN        24       0.0       NaN   \n",
       "\n",
       "       McFBIGsm  NjDdhqIe  rCVqiShm    ...     IrxBnWxE  BRzuVmyf  dnlnKrAg  \\\n",
       "id                                     ...                                    \n",
       "57071       NaN        98       -18    ...          NaN      15.0  -15927.0   \n",
       "18973       NaN        -7       -38    ...          NaN      21.0       NaN   \n",
       "20151       NaN       308       -10    ...          NaN      66.0       NaN   \n",
       "5730      305.0       133       -48    ...          NaN      36.0       NaN   \n",
       "35033       5.0        63       -28    ...          NaN      15.0       NaN   \n",
       "\n",
       "       VyHofjLM  GrLBZowF  oszSdLhD  aAufyreG  cDhZjxaW  OSmfjCbE  IOMvIGQS  \n",
       "id                                                                           \n",
       "57071         2        -4         1      66.0       -59       NaN       100  \n",
       "18973         2        -4         1      21.0       -59       NaN        75  \n",
       "20151         2       -10         1       NaN         1       NaN       150  \n",
       "5730          2      -184         1       NaN       -59    -506.0       100  \n",
       "35033         2      -244         1       NaN       -39      -6.0        50  \n",
       "\n",
       "[5 rows x 23 columns]"
      ]
     },
     "execution_count": 5,
     "metadata": {},
     "output_type": "execute_result"
    }
   ],
   "source": [
    "b_hhold_train.select_dtypes(include=[\"float64\", \"int64\"]).head()"
   ]
  },
  {
   "cell_type": "code",
   "execution_count": 13,
   "metadata": {},
   "outputs": [
    {
     "data": {
      "text/plain": [
       "dtype('int64')"
      ]
     },
     "execution_count": 13,
     "metadata": {},
     "output_type": "execute_result"
    }
   ],
   "source": [
    "b_hhold_train[\"wJthinfa\"].dtype"
   ]
  },
  {
   "cell_type": "code",
   "execution_count": 15,
   "metadata": {},
   "outputs": [],
   "source": [
    "from pandas.api.types import is_numeric_dtype"
   ]
  },
  {
   "cell_type": "code",
   "execution_count": 16,
   "metadata": {
    "collapsed": true
   },
   "outputs": [],
   "source": [
    "def impute_vals(df):\n",
    "    for column in df.columns:\n",
    "        if(is_numeric_dtype(df[column])):\n",
    "            df[column].fillna(df[column].mean(), inplace=True)\n",
    "    \n",
    "    return df"
   ]
  },
  {
   "cell_type": "code",
   "execution_count": 17,
   "metadata": {
    "collapsed": true
   },
   "outputs": [],
   "source": [
    "b_filled = impute_vals(b_hhold_train)"
   ]
  },
  {
   "cell_type": "code",
   "execution_count": 19,
   "metadata": {},
   "outputs": [
    {
     "data": {
      "text/html": [
       "<div>\n",
       "<style>\n",
       "    .dataframe thead tr:only-child th {\n",
       "        text-align: right;\n",
       "    }\n",
       "\n",
       "    .dataframe thead th {\n",
       "        text-align: left;\n",
       "    }\n",
       "\n",
       "    .dataframe tbody tr th {\n",
       "        vertical-align: top;\n",
       "    }\n",
       "</style>\n",
       "<table border=\"1\" class=\"dataframe\">\n",
       "  <thead>\n",
       "    <tr style=\"text-align: right;\">\n",
       "      <th></th>\n",
       "      <th>wJthinfa</th>\n",
       "      <th>ZvEApWrk</th>\n",
       "      <th>vuQrLzvK</th>\n",
       "      <th>FGWqGkmD</th>\n",
       "      <th>qrOrXLPM</th>\n",
       "      <th>BXOWgPgL</th>\n",
       "      <th>umkFMfvA</th>\n",
       "      <th>McFBIGsm</th>\n",
       "      <th>NjDdhqIe</th>\n",
       "      <th>rCVqiShm</th>\n",
       "      <th>...</th>\n",
       "      <th>IrxBnWxE</th>\n",
       "      <th>BRzuVmyf</th>\n",
       "      <th>dnlnKrAg</th>\n",
       "      <th>VyHofjLM</th>\n",
       "      <th>GrLBZowF</th>\n",
       "      <th>oszSdLhD</th>\n",
       "      <th>aAufyreG</th>\n",
       "      <th>cDhZjxaW</th>\n",
       "      <th>OSmfjCbE</th>\n",
       "      <th>IOMvIGQS</th>\n",
       "    </tr>\n",
       "    <tr>\n",
       "      <th>id</th>\n",
       "      <th></th>\n",
       "      <th></th>\n",
       "      <th></th>\n",
       "      <th></th>\n",
       "      <th></th>\n",
       "      <th></th>\n",
       "      <th></th>\n",
       "      <th></th>\n",
       "      <th></th>\n",
       "      <th></th>\n",
       "      <th></th>\n",
       "      <th></th>\n",
       "      <th></th>\n",
       "      <th></th>\n",
       "      <th></th>\n",
       "      <th></th>\n",
       "      <th></th>\n",
       "      <th></th>\n",
       "      <th></th>\n",
       "      <th></th>\n",
       "      <th></th>\n",
       "    </tr>\n",
       "  </thead>\n",
       "  <tbody>\n",
       "    <tr>\n",
       "      <th>57071</th>\n",
       "      <td>42</td>\n",
       "      <td>103</td>\n",
       "      <td>67</td>\n",
       "      <td>-7.509967</td>\n",
       "      <td>16</td>\n",
       "      <td>158.354633</td>\n",
       "      <td>-33.279775</td>\n",
       "      <td>301.10623</td>\n",
       "      <td>98</td>\n",
       "      <td>-18</td>\n",
       "      <td>...</td>\n",
       "      <td>0.647059</td>\n",
       "      <td>15.0</td>\n",
       "      <td>-15927.000000</td>\n",
       "      <td>2</td>\n",
       "      <td>-4</td>\n",
       "      <td>1</td>\n",
       "      <td>66.000000</td>\n",
       "      <td>-59</td>\n",
       "      <td>-339.568291</td>\n",
       "      <td>100</td>\n",
       "    </tr>\n",
       "    <tr>\n",
       "      <th>18973</th>\n",
       "      <td>34</td>\n",
       "      <td>-2</td>\n",
       "      <td>92</td>\n",
       "      <td>-7.509967</td>\n",
       "      <td>16</td>\n",
       "      <td>158.354633</td>\n",
       "      <td>-33.279775</td>\n",
       "      <td>301.10623</td>\n",
       "      <td>-7</td>\n",
       "      <td>-38</td>\n",
       "      <td>...</td>\n",
       "      <td>0.647059</td>\n",
       "      <td>21.0</td>\n",
       "      <td>-15965.135338</td>\n",
       "      <td>2</td>\n",
       "      <td>-4</td>\n",
       "      <td>1</td>\n",
       "      <td>21.000000</td>\n",
       "      <td>-59</td>\n",
       "      <td>-339.568291</td>\n",
       "      <td>75</td>\n",
       "    </tr>\n",
       "    <tr>\n",
       "      <th>20151</th>\n",
       "      <td>34</td>\n",
       "      <td>313</td>\n",
       "      <td>97</td>\n",
       "      <td>-7.509967</td>\n",
       "      <td>24</td>\n",
       "      <td>158.354633</td>\n",
       "      <td>-33.279775</td>\n",
       "      <td>301.10623</td>\n",
       "      <td>308</td>\n",
       "      <td>-10</td>\n",
       "      <td>...</td>\n",
       "      <td>0.647059</td>\n",
       "      <td>66.0</td>\n",
       "      <td>-15965.135338</td>\n",
       "      <td>2</td>\n",
       "      <td>-10</td>\n",
       "      <td>1</td>\n",
       "      <td>45.782178</td>\n",
       "      <td>1</td>\n",
       "      <td>-339.568291</td>\n",
       "      <td>150</td>\n",
       "    </tr>\n",
       "    <tr>\n",
       "      <th>5730</th>\n",
       "      <td>58</td>\n",
       "      <td>138</td>\n",
       "      <td>-64</td>\n",
       "      <td>-7.509967</td>\n",
       "      <td>24</td>\n",
       "      <td>150.000000</td>\n",
       "      <td>-33.279775</td>\n",
       "      <td>305.00000</td>\n",
       "      <td>133</td>\n",
       "      <td>-48</td>\n",
       "      <td>...</td>\n",
       "      <td>0.647059</td>\n",
       "      <td>36.0</td>\n",
       "      <td>-15965.135338</td>\n",
       "      <td>2</td>\n",
       "      <td>-184</td>\n",
       "      <td>1</td>\n",
       "      <td>45.782178</td>\n",
       "      <td>-59</td>\n",
       "      <td>-506.000000</td>\n",
       "      <td>100</td>\n",
       "    </tr>\n",
       "    <tr>\n",
       "      <th>35033</th>\n",
       "      <td>122</td>\n",
       "      <td>68</td>\n",
       "      <td>-54</td>\n",
       "      <td>-7.509967</td>\n",
       "      <td>24</td>\n",
       "      <td>0.000000</td>\n",
       "      <td>-33.279775</td>\n",
       "      <td>5.00000</td>\n",
       "      <td>63</td>\n",
       "      <td>-28</td>\n",
       "      <td>...</td>\n",
       "      <td>0.647059</td>\n",
       "      <td>15.0</td>\n",
       "      <td>-15965.135338</td>\n",
       "      <td>2</td>\n",
       "      <td>-244</td>\n",
       "      <td>1</td>\n",
       "      <td>45.782178</td>\n",
       "      <td>-39</td>\n",
       "      <td>-6.000000</td>\n",
       "      <td>50</td>\n",
       "    </tr>\n",
       "  </tbody>\n",
       "</table>\n",
       "<p>5 rows × 23 columns</p>\n",
       "</div>"
      ],
      "text/plain": [
       "       wJthinfa  ZvEApWrk  vuQrLzvK  FGWqGkmD  qrOrXLPM    BXOWgPgL  \\\n",
       "id                                                                    \n",
       "57071        42       103        67 -7.509967        16  158.354633   \n",
       "18973        34        -2        92 -7.509967        16  158.354633   \n",
       "20151        34       313        97 -7.509967        24  158.354633   \n",
       "5730         58       138       -64 -7.509967        24  150.000000   \n",
       "35033       122        68       -54 -7.509967        24    0.000000   \n",
       "\n",
       "        umkFMfvA   McFBIGsm  NjDdhqIe  rCVqiShm    ...     IrxBnWxE  BRzuVmyf  \\\n",
       "id                                                 ...                          \n",
       "57071 -33.279775  301.10623        98       -18    ...     0.647059      15.0   \n",
       "18973 -33.279775  301.10623        -7       -38    ...     0.647059      21.0   \n",
       "20151 -33.279775  301.10623       308       -10    ...     0.647059      66.0   \n",
       "5730  -33.279775  305.00000       133       -48    ...     0.647059      36.0   \n",
       "35033 -33.279775    5.00000        63       -28    ...     0.647059      15.0   \n",
       "\n",
       "           dnlnKrAg  VyHofjLM  GrLBZowF  oszSdLhD   aAufyreG  cDhZjxaW  \\\n",
       "id                                                                       \n",
       "57071 -15927.000000         2        -4         1  66.000000       -59   \n",
       "18973 -15965.135338         2        -4         1  21.000000       -59   \n",
       "20151 -15965.135338         2       -10         1  45.782178         1   \n",
       "5730  -15965.135338         2      -184         1  45.782178       -59   \n",
       "35033 -15965.135338         2      -244         1  45.782178       -39   \n",
       "\n",
       "         OSmfjCbE  IOMvIGQS  \n",
       "id                           \n",
       "57071 -339.568291       100  \n",
       "18973 -339.568291        75  \n",
       "20151 -339.568291       150  \n",
       "5730  -506.000000       100  \n",
       "35033   -6.000000        50  \n",
       "\n",
       "[5 rows x 23 columns]"
      ]
     },
     "execution_count": 19,
     "metadata": {},
     "output_type": "execute_result"
    }
   ],
   "source": [
    "b_filled.select_dtypes(include=[\"float64\", \"int64\"]).head()"
   ]
  },
  {
   "cell_type": "code",
   "execution_count": 21,
   "metadata": {},
   "outputs": [
    {
     "data": {
      "text/plain": [
       "<matplotlib.axes._subplots.AxesSubplot at 0x10fe8ea20>"
      ]
     },
     "execution_count": 21,
     "metadata": {},
     "output_type": "execute_result"
    },
    {
     "data": {
      "image/png": "[encoded data removed]",
      "text/plain": [
       "<matplotlib.figure.Figure at 0x110946358>"
      ]
     },
     "metadata": {},
     "output_type": "display_data"
    }
   ],
   "source": [
    "b_filled.poor.value_counts().plot.bar(title=\"poverty for B\")"
   ]
  },
  {
   "cell_type": "code",
   "execution_count": 22,
   "metadata": {
    "collapsed": true
   },
   "outputs": [],
   "source": [
    "b_filled_Y = b_filled.poor"
   ]
  },
  {
   "cell_type": "code",
   "execution_count": 24,
   "metadata": {},
   "outputs": [],
   "source": [
    "b_filled.drop('poor', axis=1, inplace=True)"
   ]
  },
  {
   "cell_type": "code",
   "execution_count": 26,
   "metadata": {},
   "outputs": [
    {
     "data": {
      "text/plain": [
       "id\n",
       "57071    False\n",
       "18973    False\n",
       "20151    False\n",
       "5730     False\n",
       "35033    False\n",
       "Name: poor, dtype: bool"
      ]
     },
     "execution_count": 26,
     "metadata": {},
     "output_type": "execute_result"
    }
   ],
   "source": [
    "b_filled_Y.head()"
   ]
  },
  {
   "cell_type": "code",
   "execution_count": 27,
   "metadata": {
    "collapsed": true
   },
   "outputs": [],
   "source": [
    "from imblearn.over_sampling import SMOTE"
   ]
  },
  {
   "cell_type": "code",
   "execution_count": 32,
   "metadata": {},
   "outputs": [],
   "source": [
    "from preprocess_utils import stan, pre_process_data"
   ]
  },
  {
   "cell_type": "code",
   "execution_count": 33,
   "metadata": {},
   "outputs": [
    {
     "name": "stdout",
     "output_type": "stream",
     "text": [
      "input shape\t(3255, 441)\n",
      "After standardization\t(3255, 441)\n",
      "After one hot encoding of categoricals\t(3255, 1432)\n"
     ]
    }
   ],
   "source": [
    "b_filledX = pre_process_data(b_filled)"
   ]
  },
  {
   "cell_type": "code",
   "execution_count": 34,
   "metadata": {
    "collapsed": true
   },
   "outputs": [],
   "source": [
    "bX_resampled, bY_resampled = SMOTE().fit_sample(b_filledX, b_filled_Y)"
   ]
  },
  {
   "cell_type": "code",
   "execution_count": 37,
   "metadata": {},
   "outputs": [],
   "source": [
    "from collections import Counter"
   ]
  },
  {
   "cell_type": "code",
   "execution_count": 38,
   "metadata": {},
   "outputs": [
    {
     "data": {
      "text/plain": [
       "(6008, 1432)"
      ]
     },
     "execution_count": 38,
     "metadata": {},
     "output_type": "execute_result"
    }
   ],
   "source": [
    "bX_resampled.shape"
   ]
  },
  {
   "cell_type": "code",
   "execution_count": 39,
   "metadata": {},
   "outputs": [
    {
     "name": "stdout",
     "output_type": "stream",
     "text": [
      "dict_items([(False, 3004), (True, 3004)])\n"
     ]
    }
   ],
   "source": [
    "print(Counter(bY_resampled).items())"
   ]
  },
  {
   "cell_type": "code",
   "execution_count": 45,
   "metadata": {},
   "outputs": [],
   "source": [
    "bY_resampled = bY_resampled.reshape(1, 6008)"
   ]
  },
  {
   "cell_type": "code",
   "execution_count": 46,
   "metadata": {},
   "outputs": [
    {
     "data": {
      "text/plain": [
       "(1, 6008)"
      ]
     },
     "execution_count": 46,
     "metadata": {},
     "output_type": "execute_result"
    }
   ],
   "source": [
    "bY_resampled.shape"
   ]
  },
  {
   "cell_type": "code",
   "execution_count": 47,
   "metadata": {},
   "outputs": [
    {
     "data": {
      "text/plain": [
       "Index(['RzaXNcgd', 'LfWEhutI', 'jXOqJdNL', 'wJthinfa', 'PTLgvdlQ', 'ZvEApWrk',\n",
       "       'euTESpHe', 'bDVMMSYY', 'aSzMhjgD', 'ZehDbxxy',\n",
       "       ...\n",
       "       'YVMuyCUV', 'AZVtosGB', 'toZzckhe', 'BkiXyuSp', 'ggucvVUs', 'VMvwrYds',\n",
       "       'VlNidRNP', 'rljjAmaN', 'ChbSWYhO', 'country'],\n",
       "      dtype='object', length=441)"
      ]
     },
     "execution_count": 47,
     "metadata": {},
     "output_type": "execute_result"
    }
   ],
   "source": [
    "b_filled.columns"
   ]
  },
  {
   "cell_type": "code",
   "execution_count": null,
   "metadata": {
    "collapsed": true
   },
   "outputs": [],
   "source": []
  }
 ],
 "metadata": {
  "kernelspec": {
   "display_name": "Python 3",
   "language": "python",
   "name": "python3"
  },
  "language_info": {
   "codemirror_mode": {
    "name": "ipython",
    "version": 3
   },
   "file_extension": ".py",
   "mimetype": "text/x-python",
   "name": "python",
   "nbconvert_exporter": "python",
   "pygments_lexer": "ipython3",
   "version": "3.6.3"
  }
 },
 "nbformat": 4,
 "nbformat_minor": 2
}
